{
  "nbformat": 4,
  "nbformat_minor": 0,
  "metadata": {
    "colab": {
      "name": "Lecture14_SVM.ipynb",
      "provenance": [],
      "authorship_tag": "ABX9TyNyicwufEp6CdC3STxGAgA2",
      "include_colab_link": true
    },
    "kernelspec": {
      "name": "python3",
      "display_name": "Python 3"
    },
    "language_info": {
      "name": "python"
    }
  },
  "cells": [
    {
      "cell_type": "markdown",
      "metadata": {
        "id": "view-in-github",
        "colab_type": "text"
      },
      "source": [
        "<a href=\"https://colab.research.google.com/github/ab-sa/Statistical-Machine-Learning-2/blob/main/Lecture14_SVM.ipynb\" target=\"_parent\"><img src=\"https://colab.research.google.com/assets/colab-badge.svg\" alt=\"Open In Colab\"/></a>"
      ]
    },
    {
      "cell_type": "code",
      "execution_count": 3,
      "metadata": {
        "id": "qNb9joh6pmkl"
      },
      "outputs": [],
      "source": [
        "import numpy as np\n",
        "import pandas as pd\n",
        "from sklearn.discriminant_analysis import LinearDiscriminantAnalysis, QuadraticDiscriminantAnalysis\n",
        "from sklearn.naive_bayes import GaussianNB\n",
        "from sklearn.decomposition import PCA\n",
        "from sklearn.preprocessing import StandardScaler\n",
        "from sklearn.model_selection import train_test_split, RepeatedKFold, cross_val_score, GridSearchCV\n",
        "import statsmodels.formula.api as smf\n",
        "import statsmodels.api as sm\n",
        "from sklearn.metrics import accuracy_score, confusion_matrix, classification_report, mean_squared_error\n",
        "import matplotlib.pyplot as plt\n",
        "import seaborn as sns\n",
        "from sklearn.svm import SVC"
      ]
    },
    {
      "cell_type": "code",
      "source": [
        "Credit = pd.read_csv('Credit.csv')\n",
        "Credit['Balance_multi'] = pd.cut(Credit.Balance, bins=[-1,300,700,2000],labels=[0,1,2])\n",
        "Credit = Credit.drop(['ID', 'Limit', 'Rating'], axis=1)\n",
        "print('Dimension of the data: ' + str(Credit.shape))\n",
        "print(Credit.head())\n",
        "print(Credit['Balance_multi'].value_counts(normalize=True))"
      ],
      "metadata": {
        "colab": {
          "base_uri": "https://localhost:8080/"
        },
        "id": "LazzZqdcqAQz",
        "outputId": "61b0e196-af22-4055-c81c-8b8bce89a953"
      },
      "execution_count": 2,
      "outputs": [
        {
          "output_type": "stream",
          "name": "stdout",
          "text": [
            "Dimension of the data: (400, 10)\n",
            "    Income  Cards  Age  Education  Gender Student Married  Ethnicity  Balance  \\\n",
            "0   14.891      2   34         11    Male      No     Yes  Caucasian      333   \n",
            "1  106.025      3   82         15  Female     Yes     Yes      Asian      903   \n",
            "2  104.593      4   71         11    Male      No      No      Asian      580   \n",
            "3  148.924      3   36         11  Female      No      No      Asian      964   \n",
            "4   55.882      2   68         16    Male      No     Yes  Caucasian      331   \n",
            "\n",
            "  Balance_multi  \n",
            "0             1  \n",
            "1             2  \n",
            "2             1  \n",
            "3             2  \n",
            "4             1  \n",
            "0    0.4000\n",
            "2    0.3475\n",
            "1    0.2525\n",
            "Name: Balance_multi, dtype: float64\n"
          ]
        }
      ]
    },
    {
      "cell_type": "markdown",
      "source": [
        "**Data spliting**: for both classification and regression"
      ],
      "metadata": {
        "id": "BKtQ5ezWqKrT"
      }
    },
    {
      "cell_type": "code",
      "source": [
        "X = pd.get_dummies(Credit.drop(['Balance_multi', 'Balance'], axis=1))\n",
        "y_mult = Credit['Balance_multi']\n",
        "y_cont = Credit['Balance']\n",
        "x_train, x_test, y_mult_train, y_mult_test = train_test_split(X, y_mult, test_size=0.2, random_state=0)\n",
        "x_train, x_test, y_cont_train, y_cont_test = train_test_split(X, y_cont, test_size=0.2, random_state=0)"
      ],
      "metadata": {
        "id": "jiUKIxNfqLbK"
      },
      "execution_count": 4,
      "outputs": []
    },
    {
      "cell_type": "markdown",
      "source": [
        "**SVM** for classification"
      ],
      "metadata": {
        "id": "X0scsec8qkTf"
      }
    },
    {
      "cell_type": "code",
      "source": [
        "svclassifier = SVC(kernel='linear')\n",
        "svclassifier.fit(x_train, y_mult_train)\n",
        "\n",
        "# SVM predictions on the test data\n",
        "svm_preds = svclassifier.predict(x_test)\n",
        "\n",
        "print('Model accuracy score: {0:0.4f}'. format(accuracy_score(y_mult_test, svm_preds)))"
      ],
      "metadata": {
        "colab": {
          "base_uri": "https://localhost:8080/"
        },
        "id": "OA9zx8UVqket",
        "outputId": "562a09a2-1f98-4cd6-cabe-dc94c5e66e2f"
      },
      "execution_count": 6,
      "outputs": [
        {
          "output_type": "stream",
          "name": "stdout",
          "text": [
            "Model accuracy score: 0.5750\n"
          ]
        }
      ]
    },
    {
      "cell_type": "markdown",
      "source": [
        "**Poly Kernel SVM** for classification"
      ],
      "metadata": {
        "id": "3kXfhFBtrRES"
      }
    },
    {
      "cell_type": "code",
      "source": [
        "PK_svclassifier = SVC(kernel='poly', degree=8)\n",
        "PK_svclassifier.fit(x_train, y_mult_train)\n",
        "\n",
        "# SVM predictions on the test data\n",
        "PK_svm_preds = PK_svclassifier.predict(x_test)\n",
        "\n",
        "print('Model accuracy score: {0:0.4f}'. format(accuracy_score(y_mult_test, PK_svm_preds)))"
      ],
      "metadata": {
        "colab": {
          "base_uri": "https://localhost:8080/"
        },
        "id": "cwtTPlYFrTEH",
        "outputId": "78f6e4ad-7845-4581-a1cb-669c2912b53b"
      },
      "execution_count": 9,
      "outputs": [
        {
          "output_type": "stream",
          "name": "stdout",
          "text": [
            "Model accuracy score: 0.4625\n"
          ]
        }
      ]
    },
    {
      "cell_type": "markdown",
      "source": [
        "**Gaussian Kernel SVM** for classification"
      ],
      "metadata": {
        "id": "vP5gUqB2rv6d"
      }
    },
    {
      "cell_type": "code",
      "source": [
        "GK_svclassifier = SVC(kernel='rbf')\n",
        "GK_svclassifier.fit(x_train, y_mult_train)\n",
        "\n",
        "# SVM predictions on the test data\n",
        "GK_svm_preds = GK_svclassifier.predict(x_test)\n",
        "\n",
        "print('Model accuracy score: {0:0.4f}'. format(accuracy_score(y_mult_test, GK_svm_preds)))"
      ],
      "metadata": {
        "colab": {
          "base_uri": "https://localhost:8080/"
        },
        "id": "huO1IRoYrx0n",
        "outputId": "a91e57a8-3610-4f67-e8c5-e611812c3608"
      },
      "execution_count": 10,
      "outputs": [
        {
          "output_type": "stream",
          "name": "stdout",
          "text": [
            "Model accuracy score: 0.5250\n"
          ]
        }
      ]
    }
  ]
}