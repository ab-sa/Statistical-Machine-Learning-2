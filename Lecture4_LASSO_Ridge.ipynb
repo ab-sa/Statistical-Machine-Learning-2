{
  "nbformat": 4,
  "nbformat_minor": 0,
  "metadata": {
    "colab": {
      "name": "Lecture7.ipynb",
      "provenance": [],
      "collapsed_sections": [],
      "authorship_tag": "ABX9TyO4VeiZiYMB7CimIwUcR9Tv",
      "include_colab_link": true
    },
    "kernelspec": {
      "name": "python3",
      "display_name": "Python 3"
    },
    "language_info": {
      "name": "python"
    }
  },
  "cells": [
    {
      "cell_type": "markdown",
      "metadata": {
        "id": "view-in-github",
        "colab_type": "text"
      },
      "source": [
        "<a href=\"https://colab.research.google.com/github/ab-sa/Statistical-Machine-Learning-2/blob/main/Lecture4_LASSO_Ridge.ipynb\" target=\"_parent\"><img src=\"https://colab.research.google.com/assets/colab-badge.svg\" alt=\"Open In Colab\"/></a>"
      ]
    },
    {
      "cell_type": "markdown",
      "source": [
        "Import libraries"
      ],
      "metadata": {
        "id": "Vxr_ZYDlKF9i"
      }
    },
    {
      "cell_type": "code",
      "source": [
        "import numpy as np\n",
        "import pandas as pd\n",
        "from sklearn.linear_model import Ridge, RidgeCV, Lasso, LassoCV\n",
        "from sklearn.preprocessing import StandardScaler\n",
        "from sklearn.model_selection import train_test_split, RepeatedKFold\n",
        "#import statsmodels.formula.api as smf\n",
        "import statsmodels.api as sm\n",
        "from sklearn.metrics import mean_squared_error\n",
        "import matplotlib.pyplot as plt\n",
        "import seaborn as sns"
      ],
      "metadata": {
        "id": "2Y53BbZgKGo3"
      },
      "execution_count": null,
      "outputs": []
    },
    {
      "cell_type": "markdown",
      "source": [
        "Import Credit data"
      ],
      "metadata": {
        "id": "sYMjIXqrKQNK"
      }
    },
    {
      "cell_type": "code",
      "source": [
        "Credit = pd.read_csv('Credit.csv')\n",
        "#Insurance = pd.read_csv('Insurance.csv')\n",
        "print('Dimension of the data: ' + str(Credit.shape))\n",
        "Credit.head()"
      ],
      "metadata": {
        "id": "oFg8RSw-KTbz"
      },
      "execution_count": null,
      "outputs": []
    },
    {
      "cell_type": "markdown",
      "source": [
        "Data preprocessing: splitting, standardizing, etc."
      ],
      "metadata": {
        "id": "oldHu4SIXnGx"
      }
    },
    {
      "cell_type": "code",
      "source": [
        "Credit_dumms = pd.get_dummies(Credit)\n",
        "y = Credit_dumms['Balance']\n",
        "X = Credit_dumms.drop(['ID', 'Balance'], axis=1)\n",
        "\n",
        "X_train, X_test , y_train, y_test = train_test_split(X, y, test_size=0.3, random_state=1)\n",
        "\n",
        "std_scale = StandardScaler().fit(X_train)\n",
        "X_train_std = std_scale.transform(X_train)\n",
        "X_test_std  = std_scale.transform(X_test)"
      ],
      "metadata": {
        "id": "amGEbeiMXvSF"
      },
      "execution_count": null,
      "outputs": []
    },
    {
      "cell_type": "markdown",
      "source": [
        "**Ridge**: A linear model with a Ridge penalty term (norm 2)\n",
        "\n",
        "First: with a fixed lambda (alpha) on a samll set of features:"
      ],
      "metadata": {
        "id": "xiAXg8d8Kljc"
      }
    },
    {
      "cell_type": "code",
      "source": [
        "X_temp = X_train[['Limit', 'Rating', 'Cards', 'Age', 'Education']]\n",
        "std_scale_temp = StandardScaler().fit(X_temp)\n",
        "X_temp_std = std_scale_temp.transform(X_temp)\n",
        "\n",
        "LMRidge = Ridge(alpha=1.0)\n",
        "print(LMRidge.fit(X_temp, y_train).coef_)\n",
        "print(LMRidge.fit(X_temp_std, y_train).coef_)"
      ],
      "metadata": {
        "id": "pzmxEWTSSN_E"
      },
      "execution_count": null,
      "outputs": []
    },
    {
      "cell_type": "markdown",
      "source": [
        "Second: Find the optimal value for alpha (lambda) on all features:"
      ],
      "metadata": {
        "id": "A9Z4vFSSWYS2"
      }
    },
    {
      "cell_type": "code",
      "source": [
        "# model evaluation: coss validation\n",
        "CV10 = RepeatedKFold(n_splits=10, n_repeats=3, random_state=1)\n",
        "LMRidgeCV = RidgeCV(alphas=np.arange(0, 1, 0.01), cv=CV10, scoring='neg_mean_squared_error')\n",
        "LMRidgeCV.fit(X_train_std, y_train)\n",
        "# summarize chosen configuration\n",
        "print('alpha: %f' % LMRidgeCV.alpha_)"
      ],
      "metadata": {
        "id": "i4gG8tyZLQ9p"
      },
      "execution_count": null,
      "outputs": []
    },
    {
      "cell_type": "markdown",
      "source": [
        "Fit a Ridge model with the optimal alpha (lambda):"
      ],
      "metadata": {
        "id": "e43Fe29ebwLd"
      }
    },
    {
      "cell_type": "code",
      "source": [
        "LMRidge = Ridge(alpha = LMRidgeCV.alpha_)\n",
        "LMRidge.fit(X_train_std, y_train)\n",
        "mean_squared_error(y_test, LMRidge.predict(X_test_std))\n",
        "print(LMRidge.coef_)"
      ],
      "metadata": {
        "id": "ZtXr1chVbvdM"
      },
      "execution_count": null,
      "outputs": []
    },
    {
      "cell_type": "markdown",
      "source": [
        "LASSO: Fit a linear model with a LASSO penalty term (norm 1):"
      ],
      "metadata": {
        "id": "sUPJA3I1WlhE"
      }
    },
    {
      "cell_type": "code",
      "source": [
        "lassocv = LassoCV(alphas = np.arange(0.5, 2, 0.01), cv = CV10)\n",
        "lassocv.fit(X_train_std, y_train)\n",
        "print(lassocv.alpha_)\n",
        "\n",
        "LMLasso = Lasso()\n",
        "LMLasso.set_params(alpha=lassocv.alpha_)\n",
        "LMLasso.fit(X_train_std, y_train)\n",
        "mean_squared_error(y_test, LMLasso.predict(X_test_std))\n",
        "print(LMLasso.coef_)"
      ],
      "metadata": {
        "id": "H0GS1UNgWxYG"
      },
      "execution_count": null,
      "outputs": []
    }
  ]
}