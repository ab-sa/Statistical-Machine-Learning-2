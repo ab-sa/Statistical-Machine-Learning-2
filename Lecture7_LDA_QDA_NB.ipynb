{
  "nbformat": 4,
  "nbformat_minor": 0,
  "metadata": {
    "colab": {
      "name": "Lecture12_LDA_QDA_NB.ipynb",
      "provenance": [],
      "collapsed_sections": [],
      "authorship_tag": "ABX9TyPkyCkAMJNf+8gb4k967orf",
      "include_colab_link": true
    },
    "kernelspec": {
      "name": "python3",
      "display_name": "Python 3"
    },
    "language_info": {
      "name": "python"
    }
  },
  "cells": [
    {
      "cell_type": "markdown",
      "metadata": {
        "id": "view-in-github",
        "colab_type": "text"
      },
      "source": [
        "<a href=\"https://colab.research.google.com/github/ab-sa/Statistical-Machine-Learning-2/blob/main/Lecture7_LDA_QDA_NB.ipynb\" target=\"_parent\"><img src=\"https://colab.research.google.com/assets/colab-badge.svg\" alt=\"Open In Colab\"/></a>"
      ]
    },
    {
      "cell_type": "code",
      "execution_count": null,
      "metadata": {
        "id": "CgEv-_U2ODv8"
      },
      "outputs": [],
      "source": [
        "import numpy as np\n",
        "import pandas as pd\n",
        "from sklearn.discriminant_analysis import LinearDiscriminantAnalysis, QuadraticDiscriminantAnalysis\n",
        "from sklearn.naive_bayes import GaussianNB\n",
        "from sklearn.decomposition import PCA\n",
        "from sklearn.preprocessing import StandardScaler\n",
        "from sklearn.model_selection import train_test_split, RepeatedKFold, cross_val_score, GridSearchCV\n",
        "import statsmodels.formula.api as smf\n",
        "import statsmodels.api as sm\n",
        "from sklearn.metrics import accuracy_score, confusion_matrix\n",
        "import matplotlib.pyplot as plt\n",
        "import seaborn as sns"
      ]
    },
    {
      "cell_type": "code",
      "source": [
        "Credit = pd.read_csv('Credit.csv')\n",
        "Credit['Balance_bin'] = pd.cut(Credit.Balance, bins=[-1,460,2000],labels=['0','1'])\n",
        "Credit = Credit.drop(['ID', 'Balance', 'Limit', 'Rating'], axis=1)\n",
        "print('Dimension of the data: ' + str(Credit.shape))\n",
        "Credit.head()"
      ],
      "metadata": {
        "id": "QUFAixvZOSCk"
      },
      "execution_count": null,
      "outputs": []
    },
    {
      "cell_type": "markdown",
      "source": [
        "**Classification**: Fit an LDA with Balance_bin as response:"
      ],
      "metadata": {
        "id": "XmKv2AOROcWs"
      }
    },
    {
      "cell_type": "code",
      "source": [
        "# data: dropping the credit-card related features (Limit & Rating) to make the classification problem more challenging\n",
        "X = pd.get_dummies(Credit.drop(['Balance_bin'], axis=1))\n",
        "y = Credit['Balance_bin']\n",
        "# CV\n",
        "cv = RepeatedKFold(n_splits=10, n_repeats=3, random_state=1)\n",
        "\n",
        "# define model\n",
        "LDA_mod = LinearDiscriminantAnalysis()\n",
        "# evaluate model\n",
        "LDA_scores = cross_val_score(LDA_mod, X, y, scoring='accuracy', cv=cv, n_jobs=-1)\n",
        "# summarize result\n",
        "print('Mean Accuracy for LDA: %.3f (%.3f)' % (np.mean(LDA_scores), np.std(LDA_scores)))"
      ],
      "metadata": {
        "id": "6zDW4oZ-OfJL"
      },
      "execution_count": null,
      "outputs": []
    },
    {
      "cell_type": "markdown",
      "source": [
        "**Classification**: Fit an QDA with Balance_bin as response:"
      ],
      "metadata": {
        "id": "-tj0cJ8wRdYY"
      }
    },
    {
      "cell_type": "code",
      "source": [
        "# define model\n",
        "QDA_mod = QuadraticDiscriminantAnalysis()\n",
        "# evaluate model\n",
        "QDA_scores = cross_val_score(QDA_mod, X, y, scoring='accuracy', cv=cv, n_jobs=-1)\n",
        "# summarize result\n",
        "print('Mean Accuracy for QDA: %.3f (%.3f)' % (np.mean(QDA_scores), np.std(QDA_scores)))"
      ],
      "metadata": {
        "id": "A1mymaAdRfDu"
      },
      "execution_count": null,
      "outputs": []
    },
    {
      "cell_type": "markdown",
      "source": [
        "**Classification**: Fit a Naive Bayes with Balance_bin as response:"
      ],
      "metadata": {
        "id": "Gzy-MM0zSfVU"
      }
    },
    {
      "cell_type": "code",
      "source": [
        "# define model\n",
        "NB_mod = GaussianNB()\n",
        "# evaluate model\n",
        "NB_scores = cross_val_score(NB_mod, X, y, scoring='accuracy', cv=cv, n_jobs=-1)\n",
        "# summarize result\n",
        "print('Mean Accuracy for QDA: %.3f (%.3f)' % (np.mean(NB_scores), np.std(NB_scores)))"
      ],
      "metadata": {
        "id": "P8Y_ncflShip"
      },
      "execution_count": null,
      "outputs": []
    },
    {
      "cell_type": "markdown",
      "source": [
        "**Classification**: Fit a Naive Bayes on PCs with Balance_bin as response:"
      ],
      "metadata": {
        "id": "-gk930lDVT6c"
      }
    },
    {
      "cell_type": "code",
      "source": [
        "x_train, x_test, y_train, y_test = train_test_split(X, y, test_size=0.2, random_state=0)\n",
        "\n",
        "# PCA\n",
        "std_scale = StandardScaler().fit(x_train)\n",
        "X_train_std = std_scale.transform(x_train)\n",
        "X_test_std = std_scale.transform(x_test)\n",
        "\n",
        "pca = PCA()\n",
        "PCs_train = pd.DataFrame(pca.fit_transform(X_train_std))\n",
        "PCs_test = pd.DataFrame(pca.transform(X_test_std))\n",
        "\n",
        "# define model\n",
        "NB_pc_mod = GaussianNB().fit(PCs_train, y_train)\n",
        "NB_pc_pred = NB_pc_mod.predict(PCs_test)\n",
        "\n",
        "# summarize result\n",
        "print(accuracy_score(y_test, NB_pc_pred))\n",
        "print(confusion_matrix(y_test, NB_pc_pred, normalize='true'))"
      ],
      "metadata": {
        "id": "48qmBIpsVXc1"
      },
      "execution_count": null,
      "outputs": []
    }
  ]
}