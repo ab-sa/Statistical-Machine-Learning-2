{
  "nbformat": 4,
  "nbformat_minor": 0,
  "metadata": {
    "colab": {
      "name": "Lecture4.ipynb",
      "provenance": [],
      "authorship_tag": "ABX9TyMJOSYhQc85Bb4KNQ2h9D5p",
      "include_colab_link": true
    },
    "kernelspec": {
      "name": "python3",
      "display_name": "Python 3"
    },
    "language_info": {
      "name": "python"
    }
  },
  "cells": [
    {
      "cell_type": "markdown",
      "metadata": {
        "id": "view-in-github",
        "colab_type": "text"
      },
      "source": [
        "<a href=\"https://colab.research.google.com/github/ab-sa/Statistical-Machine-Learning-2/blob/main/Lecture3_CV.ipynb\" target=\"_parent\"><img src=\"https://colab.research.google.com/assets/colab-badge.svg\" alt=\"Open In Colab\"/></a>"
      ]
    },
    {
      "cell_type": "markdown",
      "metadata": {
        "id": "Rw4LYv-M8dUQ"
      },
      "source": [
        "Import libraries"
      ]
    },
    {
      "cell_type": "code",
      "metadata": {
        "id": "a7Th129M8eqF"
      },
      "source": [
        "import numpy as np\n",
        "import pandas as pd\n",
        "from sklearn.linear_model import LinearRegression\n",
        "from sklearn.model_selection import train_test_split\n",
        "#!pip install fast_ml\n",
        "#from fast_ml.model_development import train_valid_test_split\n",
        "from sklearn.utils import resample\n",
        "from sklearn.model_selection import cross_val_score\n",
        "from sklearn.model_selection import RepeatedKFold\n",
        "from sklearn.metrics import mean_squared_error, r2_score\n",
        "import matplotlib.pyplot as plt\n",
        "import seaborn as sns"
      ],
      "execution_count": null,
      "outputs": []
    },
    {
      "cell_type": "markdown",
      "metadata": {
        "id": "VNUNEYO-8mdU"
      },
      "source": [
        "Import Credit data"
      ]
    },
    {
      "cell_type": "code",
      "metadata": {
        "colab": {
          "base_uri": "https://localhost:8080/",
          "height": 223
        },
        "id": "3d0AgYGS8nMe",
        "outputId": "5bcbbcb0-5c55-4334-f12e-f676313ea028"
      },
      "source": [
        "Credit = pd.read_csv('Credit.csv')\n",
        "print('Dimension of the data: ' + str(Credit.shape))\n",
        "Credit.head()"
      ],
      "execution_count": null,
      "outputs": [
        {
          "output_type": "stream",
          "name": "stdout",
          "text": [
            "Dimension of the data: (400, 12)\n"
          ]
        },
        {
          "output_type": "execute_result",
          "data": {
            "text/html": [
              "<div>\n",
              "<style scoped>\n",
              "    .dataframe tbody tr th:only-of-type {\n",
              "        vertical-align: middle;\n",
              "    }\n",
              "\n",
              "    .dataframe tbody tr th {\n",
              "        vertical-align: top;\n",
              "    }\n",
              "\n",
              "    .dataframe thead th {\n",
              "        text-align: right;\n",
              "    }\n",
              "</style>\n",
              "<table border=\"1\" class=\"dataframe\">\n",
              "  <thead>\n",
              "    <tr style=\"text-align: right;\">\n",
              "      <th></th>\n",
              "      <th>ID</th>\n",
              "      <th>Income</th>\n",
              "      <th>Limit</th>\n",
              "      <th>Rating</th>\n",
              "      <th>Cards</th>\n",
              "      <th>Age</th>\n",
              "      <th>Education</th>\n",
              "      <th>Gender</th>\n",
              "      <th>Student</th>\n",
              "      <th>Married</th>\n",
              "      <th>Ethnicity</th>\n",
              "      <th>Balance</th>\n",
              "    </tr>\n",
              "  </thead>\n",
              "  <tbody>\n",
              "    <tr>\n",
              "      <th>0</th>\n",
              "      <td>1</td>\n",
              "      <td>14.891</td>\n",
              "      <td>3606</td>\n",
              "      <td>283</td>\n",
              "      <td>2</td>\n",
              "      <td>34</td>\n",
              "      <td>11</td>\n",
              "      <td>Male</td>\n",
              "      <td>No</td>\n",
              "      <td>Yes</td>\n",
              "      <td>Caucasian</td>\n",
              "      <td>333</td>\n",
              "    </tr>\n",
              "    <tr>\n",
              "      <th>1</th>\n",
              "      <td>2</td>\n",
              "      <td>106.025</td>\n",
              "      <td>6645</td>\n",
              "      <td>483</td>\n",
              "      <td>3</td>\n",
              "      <td>82</td>\n",
              "      <td>15</td>\n",
              "      <td>Female</td>\n",
              "      <td>Yes</td>\n",
              "      <td>Yes</td>\n",
              "      <td>Asian</td>\n",
              "      <td>903</td>\n",
              "    </tr>\n",
              "    <tr>\n",
              "      <th>2</th>\n",
              "      <td>3</td>\n",
              "      <td>104.593</td>\n",
              "      <td>7075</td>\n",
              "      <td>514</td>\n",
              "      <td>4</td>\n",
              "      <td>71</td>\n",
              "      <td>11</td>\n",
              "      <td>Male</td>\n",
              "      <td>No</td>\n",
              "      <td>No</td>\n",
              "      <td>Asian</td>\n",
              "      <td>580</td>\n",
              "    </tr>\n",
              "    <tr>\n",
              "      <th>3</th>\n",
              "      <td>4</td>\n",
              "      <td>148.924</td>\n",
              "      <td>9504</td>\n",
              "      <td>681</td>\n",
              "      <td>3</td>\n",
              "      <td>36</td>\n",
              "      <td>11</td>\n",
              "      <td>Female</td>\n",
              "      <td>No</td>\n",
              "      <td>No</td>\n",
              "      <td>Asian</td>\n",
              "      <td>964</td>\n",
              "    </tr>\n",
              "    <tr>\n",
              "      <th>4</th>\n",
              "      <td>5</td>\n",
              "      <td>55.882</td>\n",
              "      <td>4897</td>\n",
              "      <td>357</td>\n",
              "      <td>2</td>\n",
              "      <td>68</td>\n",
              "      <td>16</td>\n",
              "      <td>Male</td>\n",
              "      <td>No</td>\n",
              "      <td>Yes</td>\n",
              "      <td>Caucasian</td>\n",
              "      <td>331</td>\n",
              "    </tr>\n",
              "  </tbody>\n",
              "</table>\n",
              "</div>"
            ],
            "text/plain": [
              "   ID   Income  Limit  Rating  ...  Student  Married  Ethnicity Balance\n",
              "0   1   14.891   3606     283  ...       No      Yes  Caucasian     333\n",
              "1   2  106.025   6645     483  ...      Yes      Yes      Asian     903\n",
              "2   3  104.593   7075     514  ...       No       No      Asian     580\n",
              "3   4  148.924   9504     681  ...       No       No      Asian     964\n",
              "4   5   55.882   4897     357  ...       No      Yes  Caucasian     331\n",
              "\n",
              "[5 rows x 12 columns]"
            ]
          },
          "metadata": {},
          "execution_count": 2
        }
      ]
    },
    {
      "cell_type": "markdown",
      "metadata": {
        "id": "rUTNzUivBMKD"
      },
      "source": [
        "Three models we will compare:\n",
        "\n",
        "*   **Model 1**: Balance vs Income\n",
        "*   **Model 2**: Balance vs Age\n",
        "*   **Model 3**: Balance vs Income & Age\n",
        "\n",
        "There is no specific reason for choosing these three. Could compare others as well."
      ]
    },
    {
      "cell_type": "markdown",
      "metadata": {
        "id": "g7X1SksEAaXQ"
      },
      "source": [
        "**Part 1: Random single split**"
      ]
    },
    {
      "cell_type": "code",
      "metadata": {
        "colab": {
          "base_uri": "https://localhost:8080/"
        },
        "id": "_RbsncRDAw_B",
        "outputId": "894a56a6-3de5-4ce7-b260-37a2a850f8a6"
      },
      "source": [
        "# using train_test_split:\n",
        "X_train, X_rem, y_train, y_rem = train_test_split(Credit[['Income', 'Age']], Credit['Balance'], train_size=0.7,\n",
        "                                                  random_state=123)\n",
        "X_valid, X_test, y_valid, y_test = train_test_split(X_rem, y_rem, test_size=0.5, random_state=123)\n",
        "\n",
        "print('Dimension of training set: ', X_train.shape)\n",
        "print('Dimension of validation set: ', X_valid.shape)\n",
        "print('Dimension of test data: ', X_test.shape)"
      ],
      "execution_count": null,
      "outputs": [
        {
          "output_type": "stream",
          "name": "stdout",
          "text": [
            "Dimension of training set:  (280, 2)\n",
            "Dimension of validation set:  (60, 2)\n",
            "Dimension of test data:  (60, 2)\n"
          ]
        }
      ]
    },
    {
      "cell_type": "markdown",
      "metadata": {
        "id": "TwRlEP4eG8wL"
      },
      "source": [
        "Fit regression models:"
      ]
    },
    {
      "cell_type": "code",
      "metadata": {
        "colab": {
          "base_uri": "https://localhost:8080/"
        },
        "id": "N9tIQ8wjHBKX",
        "outputId": "f9ef2139-bfb8-4b34-c614-52ee1e9aff76"
      },
      "source": [
        "reg_income = LinearRegression().fit(X_train[['Income']], y_train)\n",
        "reg_age = LinearRegression().fit(X_train[['Age']], y_train)\n",
        "reg_both = LinearRegression().fit(X_train, y_train)\n",
        "\n",
        "print('Evaluation on training set:')\n",
        "print('R-squared of 1st model in training set:  %.3f' % reg_income.score(X_train[['Income']], y_train))\n",
        "print('R-squared of 2nd model in training set:  %.3f' % reg_age.score(X_train[['Age']], y_train))\n",
        "print('R-squared of 3rd model in training set:  %.3f' % reg_both.score(X_train, y_train))\n",
        "\n",
        "print('Evaluation on validation set:')\n",
        "print('R-squared of 1st model in validation set:  %.3f' % reg_income.score(X_valid[['Income']], y_valid))\n",
        "print('R-squared of 2nd model in validation set:  %.3f' % reg_age.score(X_valid[['Age']], y_valid))\n",
        "print('R-squared of 3rd model in validation set:  %.3f' % reg_both.score(X_valid, y_valid))\n",
        "\n",
        "print('Evaluation on test set:')\n",
        "print('R-squared of 1st model in test set:  %.3f' % reg_income.score(X_test[['Income']], y_test))\n",
        "print('R-squared of 2nd model in test set:  %.3f' % reg_age.score(X_test[['Age']], y_test))\n",
        "print('R-squared of 3rd model in test set:  %.3f' % reg_both.score(X_test, y_test))"
      ],
      "execution_count": null,
      "outputs": [
        {
          "output_type": "stream",
          "name": "stdout",
          "text": [
            "Evaluation on training set:\n",
            "R-squared of 1st model in training set:  0.195\n",
            "R-squared of 2nd model in training set:  0.001\n",
            "R-squared of 3rd model in training set:  0.201\n",
            "Evaluation on validation set:\n",
            "R-squared of 1st model in validation set:  0.225\n",
            "R-squared of 2nd model in validation set:  -0.047\n",
            "R-squared of 3rd model in validation set:  0.216\n",
            "Evaluation on test set:\n",
            "R-squared of 1st model in test set:  0.268\n",
            "R-squared of 2nd model in test set:  -0.007\n",
            "R-squared of 3rd model in test set:  0.286\n"
          ]
        }
      ]
    },
    {
      "cell_type": "markdown",
      "metadata": {
        "id": "Gtwswi5eMOhy"
      },
      "source": [
        "**Part 2: Cross-Validation model selection (training and validation)**"
      ]
    },
    {
      "cell_type": "markdown",
      "metadata": {
        "id": "ta4Q41egEYie"
      },
      "source": [
        "Part a: single cross-validation splits:"
      ]
    },
    {
      "cell_type": "code",
      "metadata": {
        "colab": {
          "base_uri": "https://localhost:8080/"
        },
        "id": "vRRxYCWKMWZw",
        "outputId": "e58c1c3a-464a-4669-a4ad-5d12b812ac40"
      },
      "source": [
        "cv_train_income = cross_val_score(reg_income, X_train[['Income']], y_train, cv=5, scoring='r2')\n",
        "cv_train_age = cross_val_score(reg_age, X_train[['Age']], y_train, cv=5, scoring='r2')\n",
        "cv_train_both = cross_val_score(reg_both, X_train, y_train, cv=5, scoring='r2')\n",
        "\n",
        "print('R-squared from all the 5 CV-splits:')\n",
        "print(cv_train_income)\n",
        "\n",
        "print('5-fold CV evaluation:')\n",
        "print('R-squared of 1st model:  %.3f' % cv_train_income.mean())\n",
        "print('R-squared of 2nd model:  %.3f' % cv_train_age.mean())\n",
        "print('R-squared of 3rd model:  %.3f' % cv_train_both.mean())"
      ],
      "execution_count": null,
      "outputs": [
        {
          "output_type": "stream",
          "name": "stdout",
          "text": [
            "R-squared from all the 5 CV-splits:\n",
            "[ 0.01777396  0.28479734  0.35022801  0.17351359 -0.07407509]\n",
            "5-fold CV evaluation:\n",
            "R-squared of 1st model:  0.150\n",
            "R-squared of 2nd model:  -0.023\n",
            "R-squared of 3rd model:  0.149\n"
          ]
        }
      ]
    },
    {
      "cell_type": "markdown",
      "metadata": {
        "id": "zRO7QTKfWgS0"
      },
      "source": [
        "Use MSPE (i.e., MSE on the validation set) as scoring:"
      ]
    },
    {
      "cell_type": "code",
      "metadata": {
        "colab": {
          "base_uri": "https://localhost:8080/"
        },
        "id": "uGWH2A1HWcWC",
        "outputId": "620578ac-7b15-41c4-fcdb-7994e0a8ddd5"
      },
      "source": [
        "cv_train_income = cross_val_score(reg_income, X_train[['Income']], y_train, cv=5, scoring='neg_mean_squared_error')\n",
        "cv_train_age = cross_val_score(reg_age, X_train[['Age']], y_train, cv=5, scoring='neg_mean_squared_error')\n",
        "cv_train_both = cross_val_score(reg_both, X_train, y_train, cv=5, scoring='neg_mean_squared_error')\n",
        "\n",
        "print('MSPE from all the 5 CV-splits:')\n",
        "print(cv_train_income)\n",
        "\n",
        "print('5-fold CV evaluation:')\n",
        "print('MSPE of 1st model:  %.3f' % cv_train_income.mean())\n",
        "print('MSPE of 2nd model:  %.3f' % cv_train_age.mean())\n",
        "print('MSPE of 3rd model:  %.3f' % cv_train_both.mean())"
      ],
      "execution_count": null,
      "outputs": [
        {
          "output_type": "stream",
          "name": "stdout",
          "text": [
            "MSPE from all the 5 CV-splits:\n",
            "[-180158.42187158 -184843.65342784 -138043.19447173 -183224.78379393\n",
            " -182552.29294358]\n",
            "5-fold CV evaluation:\n",
            "MSPE of 1st model:  -173764.469\n",
            "MSPE of 2nd model:  -213943.901\n",
            "MSPE of 3rd model:  -174559.561\n"
          ]
        }
      ]
    },
    {
      "cell_type": "markdown",
      "metadata": {
        "id": "rdQoTXgKEh5b"
      },
      "source": [
        "Part b: repeated cross-validation splits:"
      ]
    },
    {
      "cell_type": "code",
      "metadata": {
        "colab": {
          "base_uri": "https://localhost:8080/"
        },
        "id": "Uj1StUf9EkZf",
        "outputId": "38475986-c792-4507-872b-f5693a019738"
      },
      "source": [
        "rcv = RepeatedKFold(n_splits=5, n_repeats=10, random_state=1)\n",
        "\n",
        "rcv_train_income = cross_val_score(reg_income, X_train[['Income']], y_train, cv=rcv, scoring='r2')\n",
        "rcv_train_age = cross_val_score(reg_age, X_train[['Age']], y_train, cv=rcv, scoring='r2')\n",
        "rcv_train_both = cross_val_score(reg_both, X_train, y_train, cv=rcv, scoring='r2')\n",
        "\n",
        "print('R-squared from all the repated 5 CV-splits:')\n",
        "print(rcv_train_income)\n",
        "\n",
        "print('Repeated 5fold-CV evaluation:')\n",
        "print('R-squared of 1st model:  %.3f' % rcv_train_income.mean())\n",
        "print('R-squared of 2nd model:  %.3f' % rcv_train_age.mean())\n",
        "print('R-squared of 3rd model:  %.3f' % rcv_train_both.mean())"
      ],
      "execution_count": null,
      "outputs": [
        {
          "output_type": "stream",
          "name": "stdout",
          "text": [
            "R-squared from all the repated 5 CV-splits:\n",
            "[ 0.17194121  0.15616365  0.30756076  0.25092088  0.02412717  0.13184194\n",
            "  0.1975393   0.27248505  0.14921142  0.10805965 -0.04077381  0.3299576\n",
            " -0.01821455  0.1892389   0.26007928  0.0221067   0.21839027  0.17674844\n",
            "  0.22417827  0.13712557  0.17208348  0.1525262   0.33086803 -0.08061536\n",
            "  0.16667139  0.31722581  0.20894364  0.04623132  0.15563472  0.12559902\n",
            "  0.27064257  0.11935011  0.00363911  0.13505857  0.10064417  0.16979493\n",
            "  0.34564228  0.04201788  0.10426409  0.12511056  0.27825538  0.20612789\n",
            "  0.13028285  0.01506747  0.19245142  0.28013117  0.28819213  0.24489328\n",
            "  0.12153946 -0.13886158]\n",
            "Repeated 5fold-CV evaluation:\n",
            "R-squared of 1st model:  0.158\n",
            "R-squared of 2nd model:  -0.037\n",
            "R-squared of 3rd model:  0.156\n"
          ]
        }
      ]
    },
    {
      "cell_type": "markdown",
      "metadata": {
        "id": "-Q060nSAPasg"
      },
      "source": [
        "**Part 3: Bootstrap**"
      ]
    },
    {
      "cell_type": "markdown",
      "metadata": {
        "id": "ou0QiBD5-JTb"
      },
      "source": [
        "Single bootstrap split:"
      ]
    },
    {
      "cell_type": "code",
      "metadata": {
        "colab": {
          "base_uri": "https://localhost:8080/"
        },
        "id": "0ANjFRyMPgl_",
        "outputId": "d1ca7201-8fcc-4444-e475-a91d5ab6028e"
      },
      "source": [
        "train_id_bs = resample(range(400), random_state=1)\n",
        "valid_id_bs = [item for item in range(400) if item not in train_id_bs]\n",
        "X_train_bs = Credit.iloc[train_id_bs, [1, 5]]\n",
        "y_train_bs = Credit['Balance'][train_id_bs]\n",
        "X_valid_bs = Credit.iloc[valid_id_bs, [1, 5]]\n",
        "y_valid_bs = Credit['Balance'][valid_id_bs]\n",
        "\n",
        "print('Number of uniqiue values in Training set: ', len(set(train_id_bs)))\n",
        "print(X_train_bs.head())\n",
        "print(X_train_bs.shape)\n",
        "print(y_train_bs.head())\n",
        "print(X_valid_bs.head())\n",
        "print(X_valid_bs.shape)"
      ],
      "execution_count": null,
      "outputs": [
        {
          "output_type": "stream",
          "name": "stdout",
          "text": [
            "Number of uniqiue values in Training set:  259\n",
            "     Income  Age\n",
            "37   30.007   69\n",
            "235  10.503   25\n",
            "396  13.364   65\n",
            "72   22.939   47\n",
            "255  58.063   50\n",
            "(400, 2)\n",
            "37     1093\n",
            "235     191\n",
            "396     480\n",
            "72      663\n",
            "255     118\n",
            "Name: Balance, dtype: int64\n",
            "   Income  Age\n",
            "0  14.891   34\n",
            "4  55.882   68\n",
            "5  80.180   77\n",
            "6  20.996   37\n",
            "9  71.061   41\n",
            "(141, 2)\n"
          ]
        }
      ]
    },
    {
      "cell_type": "markdown",
      "metadata": {
        "id": "I_bEbqDr-VE6"
      },
      "source": [
        "Fit the same linear regression models on the boostrap splits:"
      ]
    },
    {
      "cell_type": "code",
      "metadata": {
        "colab": {
          "base_uri": "https://localhost:8080/"
        },
        "id": "lMlRVwa--byz",
        "outputId": "93be25ab-f1d4-4b92-91d2-bf1c881cf1d8"
      },
      "source": [
        "reg_income_bs = LinearRegression().fit(X_train_bs[['Income']], y_train_bs)\n",
        "reg_age_bs = LinearRegression().fit(X_train_bs[['Age']], y_train_bs)\n",
        "reg_both_bs = LinearRegression().fit(X_train_bs, y_train_bs)\n",
        "\n",
        "print('Evaluation on boostrap training set:')\n",
        "print('R-squared of 1st model in boostrap training set:  %.3f' % reg_income.score(X_train_bs[['Income']], y_train_bs))\n",
        "print('R-squared of 2nd model in boostrap training set:  %.3f' % reg_age.score(X_train_bs[['Age']], y_train_bs))\n",
        "print('R-squared of 3rd model in boostrap training set:  %.3f' % reg_both.score(X_train_bs, y_train_bs))\n",
        "\n",
        "print('Evaluation on validation set:')\n",
        "print('R-squared of 1st model in boostrap validation set:  %.3f' % reg_income.score(X_valid_bs[['Income']], y_valid_bs))\n",
        "print('R-squared of 2nd model in boostrap validation set:  %.3f' % reg_age.score(X_valid_bs[['Age']], y_valid_bs))\n",
        "print('R-squared of 3rd model in boostrap validation set:  %.3f' % reg_both.score(X_valid_bs, y_valid_bs))"
      ],
      "execution_count": null,
      "outputs": [
        {
          "output_type": "stream",
          "name": "stdout",
          "text": [
            "Evaluation on boostrap training set:\n",
            "R-squared of 1st model in boostrap training set:  0.137\n",
            "R-squared of 2nd model in boostrap training set:  -0.005\n",
            "R-squared of 3rd model in boostrap training set:  0.142\n",
            "Evaluation on validation set:\n",
            "R-squared of 1st model in boostrap validation set:  0.270\n",
            "R-squared of 2nd model in boostrap validation set:  -0.005\n",
            "R-squared of 3rd model in boostrap validation set:  0.284\n"
          ]
        }
      ]
    }
  ]
}