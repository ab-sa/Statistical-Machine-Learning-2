{
  "nbformat": 4,
  "nbformat_minor": 0,
  "metadata": {
    "colab": {
      "name": "Lecture14_trees.ipynb",
      "provenance": [],
      "authorship_tag": "ABX9TyPl64uthE2pG3rMX9Sj5vR8",
      "include_colab_link": true
    },
    "kernelspec": {
      "name": "python3",
      "display_name": "Python 3"
    },
    "language_info": {
      "name": "python"
    }
  },
  "cells": [
    {
      "cell_type": "markdown",
      "metadata": {
        "id": "view-in-github",
        "colab_type": "text"
      },
      "source": [
        "<a href=\"https://colab.research.google.com/github/ab-sa/Statistical-Machine-Learning-2/blob/main/Lecture11_trees.ipynb\" target=\"_parent\"><img src=\"https://colab.research.google.com/assets/colab-badge.svg\" alt=\"Open In Colab\"/></a>"
      ]
    },
    {
      "cell_type": "code",
      "execution_count": 1,
      "metadata": {
        "id": "yiyk_pV57KwZ",
        "colab": {
          "base_uri": "https://localhost:8080/"
        },
        "outputId": "f08a3aa9-d377-4c02-aa36-3744f9b8582d"
      },
      "outputs": [
        {
          "output_type": "stream",
          "name": "stderr",
          "text": [
            "/usr/local/lib/python3.7/dist-packages/statsmodels/tools/_testing.py:19: FutureWarning: pandas.util.testing is deprecated. Use the functions in the public API at pandas.testing instead.\n",
            "  import pandas.util.testing as tm\n"
          ]
        }
      ],
      "source": [
        "import numpy as np\n",
        "import pandas as pd\n",
        "from sklearn.discriminant_analysis import LinearDiscriminantAnalysis, QuadraticDiscriminantAnalysis\n",
        "from sklearn.naive_bayes import GaussianNB\n",
        "from sklearn.decomposition import PCA\n",
        "from sklearn.preprocessing import StandardScaler\n",
        "from sklearn.model_selection import train_test_split, RepeatedKFold, cross_val_score, GridSearchCV\n",
        "import statsmodels.formula.api as smf\n",
        "import statsmodels.api as sm\n",
        "from sklearn.metrics import accuracy_score, confusion_matrix, classification_report, mean_squared_error\n",
        "import matplotlib.pyplot as plt\n",
        "import seaborn as sns\n",
        "from sklearn.tree import DecisionTreeClassifier, DecisionTreeRegressor\n",
        "from sklearn.ensemble import RandomForestRegressor, RandomForestClassifier, BaggingClassifier, BaggingRegressor"
      ]
    },
    {
      "cell_type": "code",
      "source": [
        "Credit = pd.read_csv('Credit.csv')\n",
        "Credit['Balance_multi'] = pd.cut(Credit.Balance, bins=[-1,300,700,2000],labels=[0,1,2])\n",
        "Credit = Credit.drop(['ID', 'Limit', 'Rating'], axis=1)\n",
        "print('Dimension of the data: ' + str(Credit.shape))\n",
        "print(Credit.head())\n",
        "print(Credit['Balance_multi'].value_counts(normalize=True))"
      ],
      "metadata": {
        "colab": {
          "base_uri": "https://localhost:8080/"
        },
        "id": "yJqoDQKF7L5-",
        "outputId": "da3069a9-d05a-4910-b5d2-afaccffdc437"
      },
      "execution_count": 2,
      "outputs": [
        {
          "output_type": "stream",
          "name": "stdout",
          "text": [
            "Dimension of the data: (400, 10)\n",
            "    Income  Cards  Age  Education  Gender Student Married  Ethnicity  Balance  \\\n",
            "0   14.891      2   34         11    Male      No     Yes  Caucasian      333   \n",
            "1  106.025      3   82         15  Female     Yes     Yes      Asian      903   \n",
            "2  104.593      4   71         11    Male      No      No      Asian      580   \n",
            "3  148.924      3   36         11  Female      No      No      Asian      964   \n",
            "4   55.882      2   68         16    Male      No     Yes  Caucasian      331   \n",
            "\n",
            "  Balance_multi  \n",
            "0             1  \n",
            "1             2  \n",
            "2             1  \n",
            "3             2  \n",
            "4             1  \n",
            "0    0.4000\n",
            "2    0.3475\n",
            "1    0.2525\n",
            "Name: Balance_multi, dtype: float64\n"
          ]
        }
      ]
    },
    {
      "cell_type": "markdown",
      "source": [
        "**Data spliting**: for both classification and regression"
      ],
      "metadata": {
        "id": "BqdlAd-tRT0m"
      }
    },
    {
      "cell_type": "code",
      "source": [
        "X = pd.get_dummies(Credit.drop(['Balance_multi', 'Balance'], axis=1))\n",
        "y_mult = Credit['Balance_multi']\n",
        "y_cont = Credit['Balance']\n",
        "x_train, x_test, y_mult_train, y_mult_test = train_test_split(X, y_mult, test_size=0.2, random_state=0)\n",
        "x_train, x_test, y_cont_train, y_cont_test = train_test_split(X, y_cont, test_size=0.2, random_state=0)"
      ],
      "metadata": {
        "id": "M0yDCOVNRboJ"
      },
      "execution_count": 3,
      "outputs": []
    },
    {
      "cell_type": "markdown",
      "source": [
        "**Classification tree:**"
      ],
      "metadata": {
        "id": "AFWqQXYm7nvU"
      }
    },
    {
      "cell_type": "code",
      "source": [
        "clf_tree = DecisionTreeClassifier(criterion='entropy', max_depth=3, random_state=0)\n",
        "clf_tree.fit(x_train, y_mult_train)\n",
        "clf_tree_pred = clf_tree.predict(x_test)\n",
        "\n",
        "print('Model accuracy score with criterion entropy: {0:0.4f}'. format(accuracy_score(y_mult_test, clf_tree_pred)))\n",
        "print(classification_report(y_mult_test, clf_tree_pred))\n",
        "print(confusion_matrix(y_mult_test, clf_tree_pred))"
      ],
      "metadata": {
        "colab": {
          "base_uri": "https://localhost:8080/"
        },
        "id": "l4RoNd177qAK",
        "outputId": "4e161049-bb2f-4ca0-b1bb-6e3a2f7f5898"
      },
      "execution_count": 4,
      "outputs": [
        {
          "output_type": "stream",
          "name": "stdout",
          "text": [
            "Model accuracy score with criterion entropy: 0.5625\n",
            "              precision    recall  f1-score   support\n",
            "\n",
            "           0       0.54      0.86      0.67        29\n",
            "           1       1.00      0.04      0.08        23\n",
            "           2       0.58      0.68      0.62        28\n",
            "\n",
            "    accuracy                           0.56        80\n",
            "   macro avg       0.71      0.53      0.46        80\n",
            "weighted avg       0.69      0.56      0.48        80\n",
            "\n",
            "[[25  0  4]\n",
            " [12  1 10]\n",
            " [ 9  0 19]]\n"
          ]
        }
      ]
    },
    {
      "cell_type": "markdown",
      "source": [
        "**Regression tree:**"
      ],
      "metadata": {
        "id": "6VCV3v6hQtnO"
      }
    },
    {
      "cell_type": "code",
      "source": [
        "reg_tree = DecisionTreeRegressor(max_depth=3, random_state=0)\n",
        "reg_tree.fit(x_train, y_cont_train)\n",
        "reg_tree_pred = reg_tree.predict(x_test)\n",
        "\n",
        "print('MSPE: ', mean_squared_error(y_cont_test, reg_tree_pred))"
      ],
      "metadata": {
        "colab": {
          "base_uri": "https://localhost:8080/"
        },
        "id": "Cqv9lip1Qsvg",
        "outputId": "4642be3a-8159-4c62-fe51-e0419f2945c5"
      },
      "execution_count": 5,
      "outputs": [
        {
          "output_type": "stream",
          "name": "stdout",
          "text": [
            "MSPE:  167864.712488959\n"
          ]
        }
      ]
    },
    {
      "cell_type": "markdown",
      "source": [
        "**Ensemble trees: Bagging** for classification"
      ],
      "metadata": {
        "id": "Q2_YRZk8PUUP"
      }
    },
    {
      "cell_type": "code",
      "source": [
        "# define the model\n",
        "clf_bagg = BaggingClassifier(n_estimators = 100, random_state = 0)\n",
        "# Train the model on training data\n",
        "clf_bagg.fit(x_train, y_mult_train)\n",
        "\n",
        "# Use the forest's predict method on the test data\n",
        "clf_bagg_preds = clf_bagg.predict(x_test)\n",
        "print('Model accuracy score: {0:0.4f}'. format(accuracy_score(y_mult_test, clf_bagg_preds)))"
      ],
      "metadata": {
        "colab": {
          "base_uri": "https://localhost:8080/"
        },
        "id": "GDayewqvPU1E",
        "outputId": "4d0ad9a2-dbe4-4633-a3cb-63b475419fe1"
      },
      "execution_count": 6,
      "outputs": [
        {
          "output_type": "stream",
          "name": "stdout",
          "text": [
            "Model accuracy score: 0.4250\n"
          ]
        }
      ]
    },
    {
      "cell_type": "markdown",
      "source": [
        "**Ensemble trees: Bagging** for regression"
      ],
      "metadata": {
        "id": "8KzdmtnYS4NA"
      }
    },
    {
      "cell_type": "code",
      "source": [
        "# define the model\n",
        "reg_bagg = BaggingRegressor(n_estimators = 100, random_state = 0)\n",
        "# Train the model on training data\n",
        "reg_bagg.fit(x_train, y_cont_train)\n",
        "\n",
        "# Use the forest's predict method on the test data\n",
        "reg_bagg_preds = reg_bagg.predict(x_test)\n",
        "print('MSPE: ', mean_squared_error(y_cont_test, reg_bagg_preds))"
      ],
      "metadata": {
        "colab": {
          "base_uri": "https://localhost:8080/"
        },
        "id": "cwYL6izrS4fx",
        "outputId": "1ee963b9-715a-41c7-c0ed-6f0978792849"
      },
      "execution_count": 7,
      "outputs": [
        {
          "output_type": "stream",
          "name": "stdout",
          "text": [
            "MSPE:  166098.31333749997\n"
          ]
        }
      ]
    },
    {
      "cell_type": "markdown",
      "source": [
        "**Ensemble trees: Random Forest** for classification"
      ],
      "metadata": {
        "id": "JkWBGR3-97ET"
      }
    },
    {
      "cell_type": "code",
      "source": [
        "# Instantiate model with 1000 decision trees\n",
        "clf_rf = RandomForestClassifier(n_estimators = 1000, random_state = 0)\n",
        "# Train the model on training data\n",
        "clf_rf.fit(x_train, y_mult_train)\n",
        "\n",
        "# Use the forest's predict method on the test data\n",
        "clf_rf_preds = clf_rf.predict(x_test)\n",
        "print('Model accuracy score: {0:0.4f}'. format(accuracy_score(y_mult_test, clf_rf_preds)))"
      ],
      "metadata": {
        "colab": {
          "base_uri": "https://localhost:8080/"
        },
        "id": "DUUmBptn-INm",
        "outputId": "8d737382-7c8a-4750-9696-9c9c3c802beb"
      },
      "execution_count": 8,
      "outputs": [
        {
          "output_type": "stream",
          "name": "stdout",
          "text": [
            "Model accuracy score: 0.5625\n"
          ]
        }
      ]
    },
    {
      "cell_type": "markdown",
      "source": [
        "**Ensemble trees: Random Forest** for regreession"
      ],
      "metadata": {
        "id": "fwj4dZU3Tw2H"
      }
    },
    {
      "cell_type": "code",
      "source": [
        "# Instantiate model with 1000 decision trees\n",
        "reg_rf = RandomForestClassifier(n_estimators = 1000, random_state = 0)\n",
        "# Train the model on training data\n",
        "reg_rf.fit(x_train, y_cont_train)\n",
        "\n",
        "# Use the forest's predict method on the test data\n",
        "reg_rf_preds = reg_rf.predict(x_test)\n",
        "print('MSPE: ', mean_squared_error(y_cont_test, reg_rf_preds))"
      ],
      "metadata": {
        "colab": {
          "base_uri": "https://localhost:8080/"
        },
        "id": "Z7bCJVjMTzkS",
        "outputId": "300771c3-382d-4f4f-c173-19d01c29a877"
      },
      "execution_count": 9,
      "outputs": [
        {
          "output_type": "stream",
          "name": "stdout",
          "text": [
            "MSPE:  322242.525\n"
          ]
        }
      ]
    },
    {
      "cell_type": "markdown",
      "source": [
        "**Tune a RF classifier:**"
      ],
      "metadata": {
        "id": "QvMVqvbY_0Im"
      }
    },
    {
      "cell_type": "code",
      "source": [
        "Parameter_Trials = {'max_features':[1,2,3],  # equivalent to R \"mtry\" parameter\n",
        "                    'min_samples_leaf':[1,3,5,7,10]  # equivalent to R \"nodesize\" parameter\n",
        "                   }\n",
        "\n",
        "# Creating the RF model\n",
        "RF_mod = RandomForestClassifier()\n",
        "\n",
        "# Creating the Grid search space\n",
        "grid_search = GridSearchCV(estimator=RF_mod, param_grid=Parameter_Trials, cv=5)\n",
        "\n",
        "# Running Grid Search for different paramenters\n",
        "grid_search.fit(X, y_mult)\n",
        "\n",
        "# printing the best parameters\n",
        "print('\\n#### Best hyperparamters ####')\n",
        "print(grid_search.best_params_)"
      ],
      "metadata": {
        "colab": {
          "base_uri": "https://localhost:8080/"
        },
        "id": "tLPDy-Xze_2T",
        "outputId": "f7007901-674a-49c5-9724-d9aa9b556b8d"
      },
      "execution_count": 10,
      "outputs": [
        {
          "output_type": "stream",
          "name": "stdout",
          "text": [
            "\n",
            "#### Best hyperparamters ####\n",
            "{'max_features': 2, 'min_samples_leaf': 7}\n"
          ]
        }
      ]
    },
    {
      "cell_type": "code",
      "source": [
        "print('MSPE: ', grid_search.cv_results_['mean_test_score'])\n",
        "print('MSPE SE: ', grid_search.cv_results_['std_test_score'])\n",
        "\n",
        "params_list = [str(d['max_features']) + '-' + str(d['min_samples_leaf']) for d in grid_search.cv_results_['params']]\n",
        "fig, ax = plt.subplots()\n",
        "ax.errorbar(params_list, grid_search.cv_results_['mean_test_score'], yerr=grid_search.cv_results_['std_test_score'], fmt='.k')\n",
        "plt.xlabel(\"Diff params\")\n",
        "plt.ylabel(\"MSPE\")\n",
        "plt.show()"
      ],
      "metadata": {
        "colab": {
          "base_uri": "https://localhost:8080/",
          "height": 367
        },
        "id": "GAimqksEhl6n",
        "outputId": "290a4612-ae09-4f7e-eaba-afaff049edbc"
      },
      "execution_count": 11,
      "outputs": [
        {
          "output_type": "stream",
          "name": "stdout",
          "text": [
            "MSPE:  [0.4425 0.495  0.5    0.5075 0.515  0.4475 0.5025 0.51   0.5275 0.5125\n",
            " 0.455  0.4975 0.495  0.5225 0.5175]\n",
            "MSPE SE:  [0.0484768  0.03840573 0.03162278 0.03409545 0.03570714 0.02893959\n",
            " 0.0254951  0.03102418 0.03657185 0.0209165  0.01870829 0.0242384\n",
            " 0.04716991 0.04898979 0.03674235]\n"
          ]
        },
        {
          "output_type": "display_data",
          "data": {
            "text/plain": [
              "<Figure size 432x288 with 1 Axes>"
            ],
            "image/png": "[encoded data removed]"
          },
          "metadata": {
            "needs_background": "light"
          }
        }
      ]
    }
  ]
}