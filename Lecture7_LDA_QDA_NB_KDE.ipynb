{
  "nbformat": 4,
  "nbformat_minor": 0,
  "metadata": {
    "colab": {
      "name": "Lecture12_LDA_QDA_NB.ipynb",
      "provenance": [],
      "collapsed_sections": [],
      "authorship_tag": "ABX9TyOBi95tcYGItOUZKT2QTgmK",
      "include_colab_link": true
    },
    "kernelspec": {
      "name": "python3",
      "display_name": "Python 3"
    },
    "language_info": {
      "name": "python"
    }
  },
  "cells": [
    {
      "cell_type": "markdown",
      "metadata": {
        "id": "view-in-github",
        "colab_type": "text"
      },
      "source": [
        "<a href=\"https://colab.research.google.com/github/ab-sa/Statistical-Machine-Learning-2/blob/main/Lecture7_LDA_QDA_NB_KDE.ipynb\" target=\"_parent\"><img src=\"https://colab.research.google.com/assets/colab-badge.svg\" alt=\"Open In Colab\"/></a>"
      ]
    },
    {
      "cell_type": "code",
      "execution_count": 1,
      "metadata": {
        "id": "CgEv-_U2ODv8",
        "outputId": "2bc4ecca-a55b-46a2-de82-34724ab1cb2b",
        "colab": {
          "base_uri": "https://localhost:8080/"
        }
      },
      "outputs": [
        {
          "output_type": "stream",
          "name": "stderr",
          "text": [
            "/usr/local/lib/python3.7/dist-packages/statsmodels/tools/_testing.py:19: FutureWarning: pandas.util.testing is deprecated. Use the functions in the public API at pandas.testing instead.\n",
            "  import pandas.util.testing as tm\n"
          ]
        }
      ],
      "source": [
        "import numpy as np\n",
        "import pandas as pd\n",
        "from sklearn.discriminant_analysis import LinearDiscriminantAnalysis, QuadraticDiscriminantAnalysis\n",
        "from sklearn.naive_bayes import GaussianNB\n",
        "from sklearn.decomposition import PCA\n",
        "from sklearn.preprocessing import StandardScaler\n",
        "from sklearn.model_selection import train_test_split, RepeatedKFold, cross_val_score, GridSearchCV\n",
        "import statsmodels.formula.api as smf\n",
        "import statsmodels.api as sm\n",
        "from sklearn.metrics import accuracy_score, confusion_matrix\n",
        "import matplotlib.pyplot as plt\n",
        "import seaborn as sns\n",
        "from sklearn.neighbors import KernelDensity\n",
        "from sklearn.preprocessing import LabelEncoder\n",
        "from sklearn.base import BaseEstimator, ClassifierMixin"
      ]
    },
    {
      "cell_type": "code",
      "source": [
        "Credit = pd.read_csv('Credit.csv')\n",
        "Credit['Balance_multi'] = pd.cut(Credit.Balance, bins=[-1,300,700,2000],labels=['0','1','2'])\n",
        "Credit = Credit.drop(['ID', 'Balance', 'Limit', 'Rating'], axis=1)\n",
        "print('Dimension of the data: ' + str(Credit.shape))\n",
        "Credit.head()"
      ],
      "metadata": {
        "colab": {
          "base_uri": "https://localhost:8080/",
          "height": 224
        },
        "id": "QUFAixvZOSCk",
        "outputId": "860e7f1a-b02c-4427-94bb-4d8dcb6a8deb"
      },
      "execution_count": null,
      "outputs": [
        {
          "output_type": "stream",
          "name": "stdout",
          "text": [
            "Dimension of the data: (400, 9)\n"
          ]
        },
        {
          "output_type": "execute_result",
          "data": {
            "text/html": [
              "\n",
              "  <div id=\"df-a2a138e2-0445-4ab3-a0c1-7394e6f4ce87\">\n",
              "    <div class=\"colab-df-container\">\n",
              "      <div>\n",
              "<style scoped>\n",
              "    .dataframe tbody tr th:only-of-type {\n",
              "        vertical-align: middle;\n",
              "    }\n",
              "\n",
              "    .dataframe tbody tr th {\n",
              "        vertical-align: top;\n",
              "    }\n",
              "\n",
              "    .dataframe thead th {\n",
              "        text-align: right;\n",
              "    }\n",
              "</style>\n",
              "<table border=\"1\" class=\"dataframe\">\n",
              "  <thead>\n",
              "    <tr style=\"text-align: right;\">\n",
              "      <th></th>\n",
              "      <th>Income</th>\n",
              "      <th>Cards</th>\n",
              "      <th>Age</th>\n",
              "      <th>Education</th>\n",
              "      <th>Gender</th>\n",
              "      <th>Student</th>\n",
              "      <th>Married</th>\n",
              "      <th>Ethnicity</th>\n",
              "      <th>Balance_multi</th>\n",
              "    </tr>\n",
              "  </thead>\n",
              "  <tbody>\n",
              "    <tr>\n",
              "      <th>0</th>\n",
              "      <td>14.891</td>\n",
              "      <td>2</td>\n",
              "      <td>34</td>\n",
              "      <td>11</td>\n",
              "      <td>Male</td>\n",
              "      <td>No</td>\n",
              "      <td>Yes</td>\n",
              "      <td>Caucasian</td>\n",
              "      <td>1</td>\n",
              "    </tr>\n",
              "    <tr>\n",
              "      <th>1</th>\n",
              "      <td>106.025</td>\n",
              "      <td>3</td>\n",
              "      <td>82</td>\n",
              "      <td>15</td>\n",
              "      <td>Female</td>\n",
              "      <td>Yes</td>\n",
              "      <td>Yes</td>\n",
              "      <td>Asian</td>\n",
              "      <td>2</td>\n",
              "    </tr>\n",
              "    <tr>\n",
              "      <th>2</th>\n",
              "      <td>104.593</td>\n",
              "      <td>4</td>\n",
              "      <td>71</td>\n",
              "      <td>11</td>\n",
              "      <td>Male</td>\n",
              "      <td>No</td>\n",
              "      <td>No</td>\n",
              "      <td>Asian</td>\n",
              "      <td>1</td>\n",
              "    </tr>\n",
              "    <tr>\n",
              "      <th>3</th>\n",
              "      <td>148.924</td>\n",
              "      <td>3</td>\n",
              "      <td>36</td>\n",
              "      <td>11</td>\n",
              "      <td>Female</td>\n",
              "      <td>No</td>\n",
              "      <td>No</td>\n",
              "      <td>Asian</td>\n",
              "      <td>2</td>\n",
              "    </tr>\n",
              "    <tr>\n",
              "      <th>4</th>\n",
              "      <td>55.882</td>\n",
              "      <td>2</td>\n",
              "      <td>68</td>\n",
              "      <td>16</td>\n",
              "      <td>Male</td>\n",
              "      <td>No</td>\n",
              "      <td>Yes</td>\n",
              "      <td>Caucasian</td>\n",
              "      <td>1</td>\n",
              "    </tr>\n",
              "  </tbody>\n",
              "</table>\n",
              "</div>\n",
              "      <button class=\"colab-df-convert\" onclick=\"convertToInteractive('df-a2a138e2-0445-4ab3-a0c1-7394e6f4ce87')\"\n",
              "              title=\"Convert this dataframe to an interactive table.\"\n",
              "              style=\"display:none;\">\n",
              "        \n",
              "  <svg xmlns=\"http://www.w3.org/2000/svg\" height=\"24px\"viewBox=\"0 0 24 24\"\n",
              "       width=\"24px\">\n",
              "    <path d=\"M0 0h24v24H0V0z\" fill=\"none\"/>\n",
              "    <path d=\"M18.56 5.44l.94 2.06.94-2.06 2.06-.94-2.06-.94-.94-2.06-.94 2.06-2.06.94zm-11 1L8.5 8.5l.94-2.06 2.06-.94-2.06-.94L8.5 2.5l-.94 2.06-2.06.94zm10 10l.94 2.06.94-2.06 2.06-.94-2.06-.94-.94-2.06-.94 2.06-2.06.94z\"/><path d=\"M17.41 7.96l-1.37-1.37c-.4-.4-.92-.59-1.43-.59-.52 0-1.04.2-1.43.59L10.3 9.45l-7.72 7.72c-.78.78-.78 2.05 0 2.83L4 21.41c.39.39.9.59 1.41.59.51 0 1.02-.2 1.41-.59l7.78-7.78 2.81-2.81c.8-.78.8-2.07 0-2.86zM5.41 20L4 18.59l7.72-7.72 1.47 1.35L5.41 20z\"/>\n",
              "  </svg>\n",
              "      </button>\n",
              "      \n",
              "  <style>\n",
              "    .colab-df-container {\n",
              "      display:flex;\n",
              "      flex-wrap:wrap;\n",
              "      gap: 12px;\n",
              "    }\n",
              "\n",
              "    .colab-df-convert {\n",
              "      background-color: #E8F0FE;\n",
              "      border: none;\n",
              "      border-radius: 50%;\n",
              "      cursor: pointer;\n",
              "      display: none;\n",
              "      fill: #1967D2;\n",
              "      height: 32px;\n",
              "      padding: 0 0 0 0;\n",
              "      width: 32px;\n",
              "    }\n",
              "\n",
              "    .colab-df-convert:hover {\n",
              "      background-color: #E2EBFA;\n",
              "      box-shadow: 0px 1px 2px rgba(60, 64, 67, 0.3), 0px 1px 3px 1px rgba(60, 64, 67, 0.15);\n",
              "      fill: #174EA6;\n",
              "    }\n",
              "\n",
              "    [theme=dark] .colab-df-convert {\n",
              "      background-color: #3B4455;\n",
              "      fill: #D2E3FC;\n",
              "    }\n",
              "\n",
              "    [theme=dark] .colab-df-convert:hover {\n",
              "      background-color: #434B5C;\n",
              "      box-shadow: 0px 1px 3px 1px rgba(0, 0, 0, 0.15);\n",
              "      filter: drop-shadow(0px 1px 2px rgba(0, 0, 0, 0.3));\n",
              "      fill: #FFFFFF;\n",
              "    }\n",
              "  </style>\n",
              "\n",
              "      <script>\n",
              "        const buttonEl =\n",
              "          document.querySelector('#df-a2a138e2-0445-4ab3-a0c1-7394e6f4ce87 button.colab-df-convert');\n",
              "        buttonEl.style.display =\n",
              "          google.colab.kernel.accessAllowed ? 'block' : 'none';\n",
              "\n",
              "        async function convertToInteractive(key) {\n",
              "          const element = document.querySelector('#df-a2a138e2-0445-4ab3-a0c1-7394e6f4ce87');\n",
              "          const dataTable =\n",
              "            await google.colab.kernel.invokeFunction('convertToInteractive',\n",
              "                                                     [key], {});\n",
              "          if (!dataTable) return;\n",
              "\n",
              "          const docLinkHtml = 'Like what you see? Visit the ' +\n",
              "            '<a target=\"_blank\" href=https://colab.research.google.com/notebooks/data_table.ipynb>data table notebook</a>'\n",
              "            + ' to learn more about interactive tables.';\n",
              "          element.innerHTML = '';\n",
              "          dataTable['output_type'] = 'display_data';\n",
              "          await google.colab.output.renderOutput(dataTable, element);\n",
              "          const docLink = document.createElement('div');\n",
              "          docLink.innerHTML = docLinkHtml;\n",
              "          element.appendChild(docLink);\n",
              "        }\n",
              "      </script>\n",
              "    </div>\n",
              "  </div>\n",
              "  "
            ],
            "text/plain": [
              "    Income  Cards  Age  Education  ... Student Married  Ethnicity Balance_multi\n",
              "0   14.891      2   34         11  ...      No     Yes  Caucasian             1\n",
              "1  106.025      3   82         15  ...     Yes     Yes      Asian             2\n",
              "2  104.593      4   71         11  ...      No      No      Asian             1\n",
              "3  148.924      3   36         11  ...      No      No      Asian             2\n",
              "4   55.882      2   68         16  ...      No     Yes  Caucasian             1\n",
              "\n",
              "[5 rows x 9 columns]"
            ]
          },
          "metadata": {},
          "execution_count": 2
        }
      ]
    },
    {
      "cell_type": "markdown",
      "source": [
        "**Linear Discriminant Analysis (LDA)**: Fit an LDA with Balance_bin as response:"
      ],
      "metadata": {
        "id": "XmKv2AOROcWs"
      }
    },
    {
      "cell_type": "code",
      "source": [
        "# data: dropping the credit-card related features (Limit & Rating) to make the classification problem more challenging\n",
        "X = pd.get_dummies(Credit.drop(['Balance_multi'], axis=1))\n",
        "y = Credit['Balance_multi']\n",
        "# CV\n",
        "cv = RepeatedKFold(n_splits=10, n_repeats=3, random_state=1)\n",
        "\n",
        "# define model\n",
        "LDA_mod = LinearDiscriminantAnalysis()\n",
        "# evaluate model\n",
        "LDA_scores = cross_val_score(LDA_mod, X, y, scoring='accuracy', cv=cv, n_jobs=-1)\n",
        "# summarize result\n",
        "print('Mean Accuracy for LDA: %.3f (%.3f)' % (np.mean(LDA_scores), np.std(LDA_scores)))"
      ],
      "metadata": {
        "colab": {
          "base_uri": "https://localhost:8080/"
        },
        "id": "6zDW4oZ-OfJL",
        "outputId": "40f474f7-dd5d-4260-84c0-0bee9da9e294"
      },
      "execution_count": null,
      "outputs": [
        {
          "output_type": "stream",
          "name": "stdout",
          "text": [
            "Mean Accuracy for LDA: 0.505 (0.084)\n"
          ]
        }
      ]
    },
    {
      "cell_type": "markdown",
      "source": [
        "Visualizing of pairwise DLs"
      ],
      "metadata": {
        "id": "rTQ1QQr7aexB"
      }
    },
    {
      "cell_type": "code",
      "source": [
        "X_lda = LDA_mod.fit_transform(X, y)\n",
        "plt.xlabel('LD1')\n",
        "plt.ylabel('LD2')\n",
        "le = LabelEncoder()\n",
        "y_lab = le.fit_transform(Credit['Balance_multi'])\n",
        "plt.scatter(\n",
        "    X_lda[:,0],\n",
        "    X_lda[:,1],\n",
        "    c=y_lab,\n",
        "    cmap='rainbow',\n",
        "    alpha=0.7,\n",
        "    edgecolors='b')"
      ],
      "metadata": {
        "colab": {
          "base_uri": "https://localhost:8080/",
          "height": 297
        },
        "id": "jbXx16rhaduq",
        "outputId": "22800c3b-e14f-4c9c-81c9-8ef9cd53f830"
      },
      "execution_count": null,
      "outputs": [
        {
          "output_type": "execute_result",
          "data": {
            "text/plain": [
              "<matplotlib.collections.PathCollection at 0x7f1456ce2a90>"
            ]
          },
          "metadata": {},
          "execution_count": 4
        },
        {
          "output_type": "display_data",
          "data": {
            "image/png": "[encoded data removed]",
            "text/plain": [
              "<Figure size 432x288 with 1 Axes>"
            ]
          },
          "metadata": {
            "needs_background": "light"
          }
        }
      ]
    },
    {
      "cell_type": "markdown",
      "source": [
        "**Quadratic Discriminant Analysis (QDA)**: Fit an QDA with Balance_bin as response:"
      ],
      "metadata": {
        "id": "-tj0cJ8wRdYY"
      }
    },
    {
      "cell_type": "code",
      "source": [
        "# define model\n",
        "QDA_mod = QuadraticDiscriminantAnalysis()\n",
        "# evaluate model\n",
        "QDA_scores = cross_val_score(QDA_mod, X, y, scoring='accuracy', cv=cv, n_jobs=-1)\n",
        "# summarize result\n",
        "print('Mean Accuracy for QDA: %.3f (%.3f)' % (np.mean(QDA_scores), np.std(QDA_scores)))"
      ],
      "metadata": {
        "id": "A1mymaAdRfDu",
        "colab": {
          "base_uri": "https://localhost:8080/"
        },
        "outputId": "a26f0cb6-12c7-456d-a30d-94c9be29ff09"
      },
      "execution_count": null,
      "outputs": [
        {
          "output_type": "stream",
          "name": "stdout",
          "text": [
            "Mean Accuracy for QDA: 0.374 (0.071)\n"
          ]
        }
      ]
    },
    {
      "cell_type": "markdown",
      "source": [
        "**Gaussian Naive Bayes (G-NB)**"
      ],
      "metadata": {
        "id": "Gzy-MM0zSfVU"
      }
    },
    {
      "cell_type": "markdown",
      "source": [
        "Visializing density of different features:"
      ],
      "metadata": {
        "id": "Jfm_ZIYOdxic"
      }
    },
    {
      "cell_type": "code",
      "source": [
        "sns.kdeplot(data=Credit, x=\"Age\", hue=\"Balance_multi\", fill=True, common_norm=False, alpha=0.4)\n",
        "plt.show()"
      ],
      "metadata": {
        "colab": {
          "base_uri": "https://localhost:8080/",
          "height": 279
        },
        "id": "jtxcdG-8d2nn",
        "outputId": "b1c99a85-10d9-4ee8-88eb-d36004c0b1b9"
      },
      "execution_count": null,
      "outputs": [
        {
          "output_type": "display_data",
          "data": {
            "image/png": "[encoded data removed]",
            "text/plain": [
              "<Figure size 432x288 with 1 Axes>"
            ]
          },
          "metadata": {
            "needs_background": "light"
          }
        }
      ]
    },
    {
      "cell_type": "markdown",
      "source": [
        "G-NB fit on Balance_bin with the original features (no PCA):"
      ],
      "metadata": {
        "id": "ttuYRYP44boM"
      }
    },
    {
      "cell_type": "code",
      "source": [
        "# define model\n",
        "NB_mod = GaussianNB()\n",
        "# evaluate model\n",
        "NB_scores = cross_val_score(NB_mod, X, y, scoring='accuracy', cv=cv, n_jobs=-1)\n",
        "# summarize result\n",
        "print('Mean Accuracy for G-NB: %.3f (%.3f)' % (np.mean(NB_scores), np.std(NB_scores)))"
      ],
      "metadata": {
        "id": "P8Y_ncflShip",
        "colab": {
          "base_uri": "https://localhost:8080/"
        },
        "outputId": "f4e5f1e6-5283-47d3-a98b-ef2897a294b4"
      },
      "execution_count": null,
      "outputs": [
        {
          "output_type": "stream",
          "name": "stdout",
          "text": [
            "Mean Accuracy for G-NB: 0.494 (0.071)\n"
          ]
        }
      ]
    },
    {
      "cell_type": "markdown",
      "source": [
        "G-NB fit on Balance_bin with PCs:"
      ],
      "metadata": {
        "id": "-gk930lDVT6c"
      }
    },
    {
      "cell_type": "code",
      "source": [
        "x_train, x_test, y_train, y_test = train_test_split(X, y, test_size=0.2, random_state=0)\n",
        "\n",
        "# PCA\n",
        "std_scale = StandardScaler().fit(x_train)\n",
        "X_train_std = std_scale.transform(x_train)\n",
        "X_test_std = std_scale.transform(x_test)\n",
        "\n",
        "pca = PCA()\n",
        "PCs_train = pd.DataFrame(pca.fit_transform(X_train_std))\n",
        "PCs_test = pd.DataFrame(pca.transform(X_test_std))\n",
        "\n",
        "# define model\n",
        "NB_pc_mod = GaussianNB().fit(PCs_train, y_train)\n",
        "NB_pc_pred = NB_pc_mod.predict(PCs_test)\n",
        "\n",
        "# summarize result\n",
        "print(accuracy_score(y_test, NB_pc_pred))\n",
        "print(confusion_matrix(y_test, NB_pc_pred, normalize='true'))"
      ],
      "metadata": {
        "id": "48qmBIpsVXc1",
        "colab": {
          "base_uri": "https://localhost:8080/"
        },
        "outputId": "20addf3a-8b97-48c1-a10c-c1eed30105b5"
      },
      "execution_count": null,
      "outputs": [
        {
          "output_type": "stream",
          "name": "stdout",
          "text": [
            "0.5625\n",
            "[[0.82758621 0.13793103 0.03448276]\n",
            " [0.69565217 0.17391304 0.13043478]\n",
            " [0.32142857 0.07142857 0.60714286]]\n"
          ]
        }
      ]
    },
    {
      "cell_type": "markdown",
      "source": [
        "**Kernel density estimation naive Bayes (KDE-NB)**"
      ],
      "metadata": {
        "id": "uAeJ1UMo5Km_"
      }
    },
    {
      "cell_type": "markdown",
      "source": [
        "KDE-NB fit on Balance_bin with the original features (no PCA):"
      ],
      "metadata": {
        "id": "rMo8QWrb4zp8"
      }
    },
    {
      "cell_type": "code",
      "source": [
        "class KDE_NB(BaseEstimator, ClassifierMixin):\n",
        "    \"\"\"Bayesian generative classification based on KDE\n",
        "    \n",
        "    Parameters\n",
        "    ----------\n",
        "    bandwidth : float\n",
        "        the kernel bandwidth within each class\n",
        "    kernel : str\n",
        "        the kernel name, passed to KernelDensity\n",
        "    \"\"\"\n",
        "    def __init__(self, bandwidth=1.0, kernel='gaussian'):\n",
        "        self.bandwidth = bandwidth\n",
        "        self.kernel = kernel\n",
        "        \n",
        "    def fit(self, X, y):\n",
        "        self.classes_ = np.sort(np.unique(y))\n",
        "        training_sets = [X[y == yi] for yi in self.classes_]\n",
        "        self.models_ = [KernelDensity(bandwidth=self.bandwidth,\n",
        "                                      kernel=self.kernel).fit(Xi)\n",
        "                        for Xi in training_sets]\n",
        "        self.logpriors_ = [np.log(Xi.shape[0] / X.shape[0])\n",
        "                           for Xi in training_sets]\n",
        "        return self\n",
        "        \n",
        "    def predict_proba(self, X):\n",
        "        logprobs = np.array([model.score_samples(X)\n",
        "                             for model in self.models_]).T\n",
        "        result = np.exp(logprobs + self.logpriors_)\n",
        "        return result / result.sum(1, keepdims=True)\n",
        "        \n",
        "    def predict(self, X):\n",
        "        return self.classes_[np.argmax(self.predict_proba(X), 1)]\n",
        "\n",
        "#class KDE_NB(BaseEstimator, ClassifierMixin):\n",
        "#    \"\"\"Bayesian generative classification based on KDE\n",
        "#    \n",
        "#    Parameters\n",
        "#    ----------\n",
        "#    bandwidth : float\n",
        "#        the kernel bandwidth within each class\n",
        "#    kernel : str\n",
        "#        the kernel name, passed to KernelDensity\n",
        "#    \"\"\"\n",
        "\n",
        "def __init__(self, bandwidth=1.0, kernel='gaussian'):\n",
        "        self.bandwidth = bandwidth\n",
        "        self.kernel = kernel\n",
        "\n",
        "def fit(self, X, y):\n",
        "        self.classes_ = np.sort(np.unique(y))\n",
        "        training_sets = [X[y == yi] for yi in self.classes_]\n",
        "        self.models_ = [KernelDensity(bandwidth=self.bandwidth,\n",
        "                                      kernel=self.kernel).fit(Xi)\n",
        "                        for Xi in training_sets]\n",
        "        self.logpriors_ = [np.log(Xi.shape[0] / X.shape[0])\n",
        "                           for Xi in training_sets]\n",
        "        return self\n",
        "\n",
        "def predict_proba(self, X):\n",
        "        logprobs = np.vstack([model.score_samples(X)\n",
        "                              for model in self.models_]).T\n",
        "        result = np.exp(logprobs + self.logpriors_)\n",
        "        return result / result.sum(1, keepdims=True)\n",
        "\n",
        "def predict(self, X):\n",
        "        return self.classes_[np.argmax(self.predict_proba(X), 1)]\n"
      ],
      "metadata": {
        "id": "SLekynhu5VRW"
      },
      "execution_count": null,
      "outputs": []
    },
    {
      "cell_type": "code",
      "source": [
        "bandwidths = 10 ** np.linspace(0, 2, 100)\n",
        "grid = GridSearchCV(KDE_NB(), {'bandwidth': bandwidths})\n",
        "grid.fit(X, y)\n",
        "\n",
        "print(grid.best_params_)\n",
        "print('accuracy =', grid.best_score_)\n",
        "#scores = [val.mean_validation_score for val in grid.grid_scores_]"
      ],
      "metadata": {
        "colab": {
          "base_uri": "https://localhost:8080/"
        },
        "id": "OVzgLcj2kp85",
        "outputId": "415e633e-2ca3-4161-cef3-cd979a5ca3fa"
      },
      "execution_count": null,
      "outputs": [
        {
          "output_type": "stream",
          "name": "stdout",
          "text": [
            "{'bandwidth': 17.886495290574352}\n",
            "accuracy = 0.5049999999999999\n"
          ]
        }
      ]
    }
  ]
}