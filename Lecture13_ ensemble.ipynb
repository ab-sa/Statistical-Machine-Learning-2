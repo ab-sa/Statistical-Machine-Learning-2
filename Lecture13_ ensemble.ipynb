{
  "nbformat": 4,
  "nbformat_minor": 0,
  "metadata": {
    "colab": {
      "name": "Lecture14_trees.ipynb",
      "provenance": [],
      "authorship_tag": "ABX9TyMWbaI3f2UANd3EOmxCv6r6",
      "include_colab_link": true
    },
    "kernelspec": {
      "name": "python3",
      "display_name": "Python 3"
    },
    "language_info": {
      "name": "python"
    }
  },
  "cells": [
    {
      "cell_type": "markdown",
      "metadata": {
        "id": "view-in-github",
        "colab_type": "text"
      },
      "source": [
        "<a href=\"https://colab.research.google.com/github/ab-sa/Statistical-Machine-Learning-2/blob/main/Lecture13_%20ensemble.ipynb\" target=\"_parent\"><img src=\"https://colab.research.google.com/assets/colab-badge.svg\" alt=\"Open In Colab\"/></a>"
      ]
    },
    {
      "cell_type": "code",
      "execution_count": 2,
      "metadata": {
        "id": "yiyk_pV57KwZ"
      },
      "outputs": [],
      "source": [
        "import numpy as np\n",
        "import pandas as pd\n",
        "from sklearn.discriminant_analysis import LinearDiscriminantAnalysis, QuadraticDiscriminantAnalysis\n",
        "from sklearn.naive_bayes import GaussianNB\n",
        "from sklearn.decomposition import PCA\n",
        "from sklearn.preprocessing import StandardScaler\n",
        "from sklearn.model_selection import train_test_split, RepeatedKFold, cross_val_score, GridSearchCV\n",
        "import statsmodels.formula.api as smf\n",
        "import statsmodels.api as sm\n",
        "from sklearn.metrics import accuracy_score, confusion_matrix, classification_report, mean_squared_error\n",
        "import matplotlib.pyplot as plt\n",
        "import seaborn as sns\n",
        "from sklearn.tree import DecisionTreeClassifier, DecisionTreeRegressor\n",
        "from sklearn.ensemble import RandomForestRegressor, RandomForestClassifier, BaggingClassifier, BaggingRegressor, GradientBoostingClassifier, GradientBoostingRegressor"
      ]
    },
    {
      "cell_type": "code",
      "source": [
        "Credit = pd.read_csv('Credit.csv')\n",
        "Credit['Balance_multi'] = pd.cut(Credit.Balance, bins=[-1,300,700,2000],labels=[0,1,2])\n",
        "Credit = Credit.drop(['ID', 'Limit', 'Rating'], axis=1)\n",
        "print('Dimension of the data: ' + str(Credit.shape))\n",
        "print(Credit.head())\n",
        "print(Credit['Balance_multi'].value_counts(normalize=True))"
      ],
      "metadata": {
        "colab": {
          "base_uri": "https://localhost:8080/"
        },
        "id": "yJqoDQKF7L5-",
        "outputId": "aed9ef65-b1db-440c-814f-f84fa02c1dbd"
      },
      "execution_count": 3,
      "outputs": [
        {
          "output_type": "stream",
          "name": "stdout",
          "text": [
            "Dimension of the data: (400, 10)\n",
            "    Income  Cards  Age  Education  Gender Student Married  Ethnicity  Balance  \\\n",
            "0   14.891      2   34         11    Male      No     Yes  Caucasian      333   \n",
            "1  106.025      3   82         15  Female     Yes     Yes      Asian      903   \n",
            "2  104.593      4   71         11    Male      No      No      Asian      580   \n",
            "3  148.924      3   36         11  Female      No      No      Asian      964   \n",
            "4   55.882      2   68         16    Male      No     Yes  Caucasian      331   \n",
            "\n",
            "  Balance_multi  \n",
            "0             1  \n",
            "1             2  \n",
            "2             1  \n",
            "3             2  \n",
            "4             1  \n",
            "0    0.4000\n",
            "2    0.3475\n",
            "1    0.2525\n",
            "Name: Balance_multi, dtype: float64\n"
          ]
        }
      ]
    },
    {
      "cell_type": "markdown",
      "source": [
        "**Data spliting**: for both classification and regression"
      ],
      "metadata": {
        "id": "BqdlAd-tRT0m"
      }
    },
    {
      "cell_type": "code",
      "source": [
        "X = pd.get_dummies(Credit.drop(['Balance_multi', 'Balance'], axis=1))\n",
        "y_mult = Credit['Balance_multi']\n",
        "y_cont = Credit['Balance']\n",
        "x_train, x_test, y_mult_train, y_mult_test = train_test_split(X, y_mult, test_size=0.2, random_state=0)\n",
        "x_train, x_test, y_cont_train, y_cont_test = train_test_split(X, y_cont, test_size=0.2, random_state=0)"
      ],
      "metadata": {
        "id": "M0yDCOVNRboJ"
      },
      "execution_count": 4,
      "outputs": []
    },
    {
      "cell_type": "markdown",
      "source": [
        "**Ensemble trees: Bagging** for classification"
      ],
      "metadata": {
        "id": "Q2_YRZk8PUUP"
      }
    },
    {
      "cell_type": "code",
      "source": [
        "# define the model\n",
        "clf_bagg = BaggingClassifier(n_estimators = 100, random_state = 0)\n",
        "# Train the model on training data\n",
        "clf_bagg.fit(x_train, y_mult_train)\n",
        "\n",
        "# Use the forest's predict method on the test data\n",
        "clf_bagg_preds = clf_bagg.predict(x_test)\n",
        "print('Model accuracy score: {0:0.4f}'. format(accuracy_score(y_mult_test, clf_bagg_preds)))"
      ],
      "metadata": {
        "colab": {
          "base_uri": "https://localhost:8080/"
        },
        "id": "GDayewqvPU1E",
        "outputId": "719d938d-cab1-45d9-8e9d-14a5c17d81c2"
      },
      "execution_count": 5,
      "outputs": [
        {
          "output_type": "stream",
          "name": "stdout",
          "text": [
            "Model accuracy score: 0.4250\n"
          ]
        }
      ]
    },
    {
      "cell_type": "markdown",
      "source": [
        "**Ensemble trees: Bagging** for regression"
      ],
      "metadata": {
        "id": "8KzdmtnYS4NA"
      }
    },
    {
      "cell_type": "code",
      "source": [
        "# define the model\n",
        "reg_bagg = BaggingRegressor(n_estimators = 100, random_state = 0)\n",
        "# Train the model on training data\n",
        "reg_bagg.fit(x_train, y_cont_train)\n",
        "\n",
        "# Use the forest's predict method on the test data\n",
        "reg_bagg_preds = reg_bagg.predict(x_test)\n",
        "print('MSPE: ', mean_squared_error(y_cont_test, reg_bagg_preds))"
      ],
      "metadata": {
        "colab": {
          "base_uri": "https://localhost:8080/"
        },
        "id": "cwYL6izrS4fx",
        "outputId": "4b473ee7-c00f-4a7e-f5bd-e37fcdd94fff"
      },
      "execution_count": 6,
      "outputs": [
        {
          "output_type": "stream",
          "name": "stdout",
          "text": [
            "MSPE:  166098.31333749997\n"
          ]
        }
      ]
    },
    {
      "cell_type": "markdown",
      "source": [
        "**Ensemble trees: Random Forest** for classification"
      ],
      "metadata": {
        "id": "JkWBGR3-97ET"
      }
    },
    {
      "cell_type": "code",
      "source": [
        "# Instantiate model with 1000 decision trees\n",
        "clf_rf = RandomForestClassifier(n_estimators = 1000, random_state = 0)\n",
        "# Train the model on training data\n",
        "clf_rf.fit(x_train, y_mult_train)\n",
        "\n",
        "# Use the forest's predict method on the test data\n",
        "clf_rf_preds = clf_rf.predict(x_test)\n",
        "print('Model accuracy score: {0:0.4f}'. format(accuracy_score(y_mult_test, clf_rf_preds)))"
      ],
      "metadata": {
        "colab": {
          "base_uri": "https://localhost:8080/"
        },
        "id": "DUUmBptn-INm",
        "outputId": "0a73ea84-d2e0-44a3-b3fb-f0c3d11162de"
      },
      "execution_count": 7,
      "outputs": [
        {
          "output_type": "stream",
          "name": "stdout",
          "text": [
            "Model accuracy score: 0.5625\n"
          ]
        }
      ]
    },
    {
      "cell_type": "markdown",
      "source": [
        "**Ensemble trees: Random Forest** for regreession"
      ],
      "metadata": {
        "id": "fwj4dZU3Tw2H"
      }
    },
    {
      "cell_type": "code",
      "source": [
        "# Instantiate model with 1000 decision trees\n",
        "reg_rf = RandomForestClassifier(n_estimators = 1000, random_state = 0)\n",
        "# Train the model on training data\n",
        "reg_rf.fit(x_train, y_cont_train)\n",
        "\n",
        "# Use the forest's predict method on the test data\n",
        "reg_rf_preds = reg_rf.predict(x_test)\n",
        "print('MSPE: ', mean_squared_error(y_cont_test, reg_rf_preds))"
      ],
      "metadata": {
        "colab": {
          "base_uri": "https://localhost:8080/"
        },
        "id": "Z7bCJVjMTzkS",
        "outputId": "a74296d8-0302-40e3-edc9-ad046e8a13e6"
      },
      "execution_count": 8,
      "outputs": [
        {
          "output_type": "stream",
          "name": "stdout",
          "text": [
            "MSPE:  322242.525\n"
          ]
        }
      ]
    },
    {
      "cell_type": "markdown",
      "source": [
        "**Tune a RF classifier:**"
      ],
      "metadata": {
        "id": "QvMVqvbY_0Im"
      }
    },
    {
      "cell_type": "code",
      "source": [
        "Parameter_Trials = {'max_features':[2,3,4,5],  # equivalent to R \"mtry\" parameter\n",
        "                    'min_samples_leaf':[1,3,5,7,10]  # equivalent to R \"nodesize\" parameter\n",
        "                   }\n",
        "\n",
        "# Creating the RF model\n",
        "RF_mod = RandomForestClassifier()\n",
        "\n",
        "# Creating the Grid search space\n",
        "grid_search = GridSearchCV(estimator=RF_mod, param_grid=Parameter_Trials, cv=5)\n",
        "\n",
        "# Running Grid Search for different paramenters\n",
        "grid_search.fit(X, y_mult)\n",
        "\n",
        "# printing the best parameters\n",
        "print('\\n#### Best hyperparamters ####')\n",
        "print(grid_search.best_params_)"
      ],
      "metadata": {
        "colab": {
          "base_uri": "https://localhost:8080/"
        },
        "id": "tLPDy-Xze_2T",
        "outputId": "32192fe6-2853-4019-f224-3ab3ebad7124"
      },
      "execution_count": 10,
      "outputs": [
        {
          "output_type": "stream",
          "name": "stdout",
          "text": [
            "\n",
            "#### Best hyperparamters ####\n",
            "{'max_features': 3, 'min_samples_leaf': 7}\n"
          ]
        }
      ]
    },
    {
      "cell_type": "code",
      "source": [
        "print('Accuracy: ', grid_search.cv_results_['mean_test_score'])\n",
        "print('Accuracy SE: ', grid_search.cv_results_['std_test_score'])\n",
        "\n",
        "params_list = [str(d['max_features']) + '-' + str(d['min_samples_leaf']) for d in grid_search.cv_results_['params']]\n",
        "fig, ax = plt.subplots()\n",
        "ax.errorbar(params_list, grid_search.cv_results_['mean_test_score'], yerr=grid_search.cv_results_['std_test_score'], fmt='.k')\n",
        "plt.xlabel(\"Diff params\")\n",
        "plt.ylabel(\"Accuracy\")\n",
        "plt.show()"
      ],
      "metadata": {
        "colab": {
          "base_uri": "https://localhost:8080/",
          "height": 385
        },
        "id": "GAimqksEhl6n",
        "outputId": "9aa49eb3-7d88-42c3-cd10-673ba9f3dadf"
      },
      "execution_count": 13,
      "outputs": [
        {
          "output_type": "stream",
          "name": "stdout",
          "text": [
            "Accuracy:  [0.4625 0.49   0.515  0.525  0.5175 0.4575 0.4925 0.5025 0.53   0.5225\n",
            " 0.4575 0.48   0.4775 0.5025 0.52   0.46   0.495  0.505  0.51   0.5225]\n",
            "Accuracy SE:  [0.01767767 0.03570714 0.03741657 0.0295804  0.03588175 0.0484768\n",
            " 0.06103278 0.03102418 0.0503736  0.03657185 0.01695582 0.02915476\n",
            " 0.04430011 0.04286607 0.03316625 0.03297726 0.04227884 0.03758324\n",
            " 0.03297726 0.04430011]\n"
          ]
        },
        {
          "output_type": "display_data",
          "data": {
            "text/plain": [
              "<Figure size 432x288 with 1 Axes>"
            ],
            "image/png": "[encoded data removed]"
          },
          "metadata": {
            "needs_background": "light"
          }
        }
      ]
    },
    {
      "cell_type": "markdown",
      "source": [
        "**Ensemble trees: Gradient Boosting** for classification"
      ],
      "metadata": {
        "id": "KZCXiFuj1I-o"
      }
    },
    {
      "cell_type": "code",
      "source": [
        "# Instantiate model with 1000 decision trees\n",
        "clf_gb = GradientBoostingClassifier(n_estimators = 1000, random_state = 0)\n",
        "# Train the model on training data\n",
        "clf_gb.fit(x_train, y_mult_train)\n",
        "\n",
        "# Use the forest's predict method on the test data\n",
        "clf_gb_preds = clf_gb.predict(x_test)\n",
        "print('Model accuracy score: {0:0.4f}'. format(accuracy_score(y_mult_test, clf_gb_preds)))"
      ],
      "metadata": {
        "colab": {
          "base_uri": "https://localhost:8080/"
        },
        "id": "IsJVQKlU1PB6",
        "outputId": "2e366149-b504-4304-b1d3-d66db9f48bce"
      },
      "execution_count": 14,
      "outputs": [
        {
          "output_type": "stream",
          "name": "stdout",
          "text": [
            "Model accuracy score: 0.3875\n"
          ]
        }
      ]
    },
    {
      "cell_type": "markdown",
      "source": [
        "**Ensemble trees: Gradient Boosting** for regression"
      ],
      "metadata": {
        "id": "Qer01QU82NGJ"
      }
    },
    {
      "cell_type": "code",
      "source": [
        "# Instantiate model with 1000 decision trees\n",
        "reg_gb = GradientBoostingRegressor(n_estimators = 1000, random_state = 0)\n",
        "# Train the model on training data\n",
        "reg_gb.fit(x_train, y_cont_train)\n",
        "\n",
        "# Use the forest's predict method on the test data\n",
        "reg_gb_preds = reg_gb.predict(x_test)\n",
        "print('MSPE: ', mean_squared_error(y_cont_test, reg_gb_preds))"
      ],
      "metadata": {
        "colab": {
          "base_uri": "https://localhost:8080/"
        },
        "id": "5-ZzNQgN2Rxz",
        "outputId": "64a08ccc-d019-419d-a568-254dc1b85102"
      },
      "execution_count": 15,
      "outputs": [
        {
          "output_type": "stream",
          "name": "stdout",
          "text": [
            "MSPE:  250118.83087738775\n"
          ]
        }
      ]
    }
  ]
}