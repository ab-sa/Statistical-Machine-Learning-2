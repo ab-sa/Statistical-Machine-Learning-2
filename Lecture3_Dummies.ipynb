{
  "nbformat": 4,
  "nbformat_minor": 0,
  "metadata": {
    "colab": {
      "name": "Lecture5.ipynb",
      "provenance": [],
      "authorship_tag": "ABX9TyN7EvN1hpyb4ukKGX5M8EIc",
      "include_colab_link": true
    },
    "kernelspec": {
      "name": "python3",
      "display_name": "Python 3"
    },
    "language_info": {
      "name": "python"
    }
  },
  "cells": [
    {
      "cell_type": "markdown",
      "metadata": {
        "id": "view-in-github",
        "colab_type": "text"
      },
      "source": [
        "<a href=\"https://colab.research.google.com/github/ab-sa/Statistical-Machine-Learning-2/blob/main/Lecture3_Dummies.ipynb\" target=\"_parent\"><img src=\"https://colab.research.google.com/assets/colab-badge.svg\" alt=\"Open In Colab\"/></a>"
      ]
    },
    {
      "cell_type": "markdown",
      "metadata": {
        "id": "PDECGDRsGFau"
      },
      "source": [
        "Import libraries"
      ]
    },
    {
      "cell_type": "code",
      "metadata": {
        "colab": {
          "base_uri": "https://localhost:8080/"
        },
        "id": "PXsYWIyhGG0o",
        "outputId": "b8342370-1874-438c-b006-eba6775cb14f"
      },
      "source": [
        "import numpy as np\n",
        "import pandas as pd\n",
        "from sklearn.linear_model import LinearRegression\n",
        "import statsmodels.formula.api as smf\n",
        "from sklearn.metrics import mean_squared_error, r2_score\n",
        "import matplotlib.pyplot as plt\n",
        "import seaborn as sns"
      ],
      "execution_count": null,
      "outputs": [
        {
          "output_type": "stream",
          "name": "stderr",
          "text": [
            "/usr/local/lib/python3.7/dist-packages/statsmodels/tools/_testing.py:19: FutureWarning: pandas.util.testing is deprecated. Use the functions in the public API at pandas.testing instead.\n",
            "  import pandas.util.testing as tm\n"
          ]
        }
      ]
    },
    {
      "cell_type": "markdown",
      "metadata": {
        "id": "rjlKm6C3Gjfg"
      },
      "source": [
        "Import Credit data"
      ]
    },
    {
      "cell_type": "code",
      "metadata": {
        "colab": {
          "base_uri": "https://localhost:8080/",
          "height": 223
        },
        "id": "6HwfbfrMGkK1",
        "outputId": "ad5fffb3-7362-4364-d27b-bac8d235af7f"
      },
      "source": [
        "Credit = pd.read_csv('Credit.csv')\n",
        "Insurance = pd.read_csv('Insurance.csv')\n",
        "print('Dimension of the data: ' + str(Credit.shape))\n",
        "Credit.head()"
      ],
      "execution_count": null,
      "outputs": [
        {
          "output_type": "stream",
          "name": "stdout",
          "text": [
            "Dimension of the data: (400, 12)\n"
          ]
        },
        {
          "output_type": "execute_result",
          "data": {
            "text/html": [
              "<div>\n",
              "<style scoped>\n",
              "    .dataframe tbody tr th:only-of-type {\n",
              "        vertical-align: middle;\n",
              "    }\n",
              "\n",
              "    .dataframe tbody tr th {\n",
              "        vertical-align: top;\n",
              "    }\n",
              "\n",
              "    .dataframe thead th {\n",
              "        text-align: right;\n",
              "    }\n",
              "</style>\n",
              "<table border=\"1\" class=\"dataframe\">\n",
              "  <thead>\n",
              "    <tr style=\"text-align: right;\">\n",
              "      <th></th>\n",
              "      <th>ID</th>\n",
              "      <th>Income</th>\n",
              "      <th>Limit</th>\n",
              "      <th>Rating</th>\n",
              "      <th>Cards</th>\n",
              "      <th>Age</th>\n",
              "      <th>Education</th>\n",
              "      <th>Gender</th>\n",
              "      <th>Student</th>\n",
              "      <th>Married</th>\n",
              "      <th>Ethnicity</th>\n",
              "      <th>Balance</th>\n",
              "    </tr>\n",
              "  </thead>\n",
              "  <tbody>\n",
              "    <tr>\n",
              "      <th>0</th>\n",
              "      <td>1</td>\n",
              "      <td>14.891</td>\n",
              "      <td>3606</td>\n",
              "      <td>283</td>\n",
              "      <td>2</td>\n",
              "      <td>34</td>\n",
              "      <td>11</td>\n",
              "      <td>Male</td>\n",
              "      <td>No</td>\n",
              "      <td>Yes</td>\n",
              "      <td>Caucasian</td>\n",
              "      <td>333</td>\n",
              "    </tr>\n",
              "    <tr>\n",
              "      <th>1</th>\n",
              "      <td>2</td>\n",
              "      <td>106.025</td>\n",
              "      <td>6645</td>\n",
              "      <td>483</td>\n",
              "      <td>3</td>\n",
              "      <td>82</td>\n",
              "      <td>15</td>\n",
              "      <td>Female</td>\n",
              "      <td>Yes</td>\n",
              "      <td>Yes</td>\n",
              "      <td>Asian</td>\n",
              "      <td>903</td>\n",
              "    </tr>\n",
              "    <tr>\n",
              "      <th>2</th>\n",
              "      <td>3</td>\n",
              "      <td>104.593</td>\n",
              "      <td>7075</td>\n",
              "      <td>514</td>\n",
              "      <td>4</td>\n",
              "      <td>71</td>\n",
              "      <td>11</td>\n",
              "      <td>Male</td>\n",
              "      <td>No</td>\n",
              "      <td>No</td>\n",
              "      <td>Asian</td>\n",
              "      <td>580</td>\n",
              "    </tr>\n",
              "    <tr>\n",
              "      <th>3</th>\n",
              "      <td>4</td>\n",
              "      <td>148.924</td>\n",
              "      <td>9504</td>\n",
              "      <td>681</td>\n",
              "      <td>3</td>\n",
              "      <td>36</td>\n",
              "      <td>11</td>\n",
              "      <td>Female</td>\n",
              "      <td>No</td>\n",
              "      <td>No</td>\n",
              "      <td>Asian</td>\n",
              "      <td>964</td>\n",
              "    </tr>\n",
              "    <tr>\n",
              "      <th>4</th>\n",
              "      <td>5</td>\n",
              "      <td>55.882</td>\n",
              "      <td>4897</td>\n",
              "      <td>357</td>\n",
              "      <td>2</td>\n",
              "      <td>68</td>\n",
              "      <td>16</td>\n",
              "      <td>Male</td>\n",
              "      <td>No</td>\n",
              "      <td>Yes</td>\n",
              "      <td>Caucasian</td>\n",
              "      <td>331</td>\n",
              "    </tr>\n",
              "  </tbody>\n",
              "</table>\n",
              "</div>"
            ],
            "text/plain": [
              "   ID   Income  Limit  Rating  ...  Student  Married  Ethnicity Balance\n",
              "0   1   14.891   3606     283  ...       No      Yes  Caucasian     333\n",
              "1   2  106.025   6645     483  ...      Yes      Yes      Asian     903\n",
              "2   3  104.593   7075     514  ...       No       No      Asian     580\n",
              "3   4  148.924   9504     681  ...       No       No      Asian     964\n",
              "4   5   55.882   4897     357  ...       No      Yes  Caucasian     331\n",
              "\n",
              "[5 rows x 12 columns]"
            ]
          },
          "metadata": {},
          "execution_count": 51
        }
      ]
    },
    {
      "cell_type": "markdown",
      "metadata": {
        "id": "XKsAgd5FG6Kk"
      },
      "source": [
        "Levels of Gender and Ethnicity:"
      ]
    },
    {
      "cell_type": "code",
      "metadata": {
        "colab": {
          "base_uri": "https://localhost:8080/"
        },
        "id": "xIYm9tRWG_4e",
        "outputId": "d667b796-3fad-4bec-a28a-09715a50d5f0"
      },
      "source": [
        "print('Gender:')\n",
        "print(Credit['Gender'].value_counts())\n",
        "print('Ethnicity:')\n",
        "print(Credit['Ethnicity'].value_counts())\n",
        "print(Credit['Ethnicity'].value_counts(normalize=True))"
      ],
      "execution_count": null,
      "outputs": [
        {
          "output_type": "stream",
          "name": "stdout",
          "text": [
            "Gender:\n",
            "Female    207\n",
            " Male     193\n",
            "Name: Gender, dtype: int64\n",
            "Ethnicity:\n",
            "Caucasian           199\n",
            "Asian               102\n",
            "African American     99\n",
            "Name: Ethnicity, dtype: int64\n",
            "Caucasian           0.4975\n",
            "Asian               0.2550\n",
            "African American    0.2475\n",
            "Name: Ethnicity, dtype: float64\n"
          ]
        }
      ]
    },
    {
      "cell_type": "markdown",
      "metadata": {
        "id": "1vikcrutI0mK"
      },
      "source": [
        "Dummy variabes for categorical predictors:"
      ]
    },
    {
      "cell_type": "code",
      "metadata": {
        "colab": {
          "base_uri": "https://localhost:8080/",
          "height": 423
        },
        "id": "67C6hI6_I5Q8",
        "outputId": "3845a4f5-a865-4638-a281-70abaaab477a"
      },
      "source": [
        "Credit_dumms = pd.get_dummies(Credit[['Balance', 'Gender', 'Ethnicity']])\n",
        "Credit_dumms"
      ],
      "execution_count": null,
      "outputs": [
        {
          "output_type": "execute_result",
          "data": {
            "text/html": [
              "<div>\n",
              "<style scoped>\n",
              "    .dataframe tbody tr th:only-of-type {\n",
              "        vertical-align: middle;\n",
              "    }\n",
              "\n",
              "    .dataframe tbody tr th {\n",
              "        vertical-align: top;\n",
              "    }\n",
              "\n",
              "    .dataframe thead th {\n",
              "        text-align: right;\n",
              "    }\n",
              "</style>\n",
              "<table border=\"1\" class=\"dataframe\">\n",
              "  <thead>\n",
              "    <tr style=\"text-align: right;\">\n",
              "      <th></th>\n",
              "      <th>Balance</th>\n",
              "      <th>Gender_ Male</th>\n",
              "      <th>Gender_Female</th>\n",
              "      <th>Ethnicity_African American</th>\n",
              "      <th>Ethnicity_Asian</th>\n",
              "      <th>Ethnicity_Caucasian</th>\n",
              "    </tr>\n",
              "  </thead>\n",
              "  <tbody>\n",
              "    <tr>\n",
              "      <th>0</th>\n",
              "      <td>333</td>\n",
              "      <td>1</td>\n",
              "      <td>0</td>\n",
              "      <td>0</td>\n",
              "      <td>0</td>\n",
              "      <td>1</td>\n",
              "    </tr>\n",
              "    <tr>\n",
              "      <th>1</th>\n",
              "      <td>903</td>\n",
              "      <td>0</td>\n",
              "      <td>1</td>\n",
              "      <td>0</td>\n",
              "      <td>1</td>\n",
              "      <td>0</td>\n",
              "    </tr>\n",
              "    <tr>\n",
              "      <th>2</th>\n",
              "      <td>580</td>\n",
              "      <td>1</td>\n",
              "      <td>0</td>\n",
              "      <td>0</td>\n",
              "      <td>1</td>\n",
              "      <td>0</td>\n",
              "    </tr>\n",
              "    <tr>\n",
              "      <th>3</th>\n",
              "      <td>964</td>\n",
              "      <td>0</td>\n",
              "      <td>1</td>\n",
              "      <td>0</td>\n",
              "      <td>1</td>\n",
              "      <td>0</td>\n",
              "    </tr>\n",
              "    <tr>\n",
              "      <th>4</th>\n",
              "      <td>331</td>\n",
              "      <td>1</td>\n",
              "      <td>0</td>\n",
              "      <td>0</td>\n",
              "      <td>0</td>\n",
              "      <td>1</td>\n",
              "    </tr>\n",
              "    <tr>\n",
              "      <th>...</th>\n",
              "      <td>...</td>\n",
              "      <td>...</td>\n",
              "      <td>...</td>\n",
              "      <td>...</td>\n",
              "      <td>...</td>\n",
              "      <td>...</td>\n",
              "    </tr>\n",
              "    <tr>\n",
              "      <th>395</th>\n",
              "      <td>560</td>\n",
              "      <td>1</td>\n",
              "      <td>0</td>\n",
              "      <td>0</td>\n",
              "      <td>0</td>\n",
              "      <td>1</td>\n",
              "    </tr>\n",
              "    <tr>\n",
              "      <th>396</th>\n",
              "      <td>480</td>\n",
              "      <td>1</td>\n",
              "      <td>0</td>\n",
              "      <td>1</td>\n",
              "      <td>0</td>\n",
              "      <td>0</td>\n",
              "    </tr>\n",
              "    <tr>\n",
              "      <th>397</th>\n",
              "      <td>138</td>\n",
              "      <td>0</td>\n",
              "      <td>1</td>\n",
              "      <td>0</td>\n",
              "      <td>0</td>\n",
              "      <td>1</td>\n",
              "    </tr>\n",
              "    <tr>\n",
              "      <th>398</th>\n",
              "      <td>0</td>\n",
              "      <td>1</td>\n",
              "      <td>0</td>\n",
              "      <td>0</td>\n",
              "      <td>0</td>\n",
              "      <td>1</td>\n",
              "    </tr>\n",
              "    <tr>\n",
              "      <th>399</th>\n",
              "      <td>966</td>\n",
              "      <td>0</td>\n",
              "      <td>1</td>\n",
              "      <td>0</td>\n",
              "      <td>1</td>\n",
              "      <td>0</td>\n",
              "    </tr>\n",
              "  </tbody>\n",
              "</table>\n",
              "<p>400 rows × 6 columns</p>\n",
              "</div>"
            ],
            "text/plain": [
              "     Balance  Gender_ Male  ...  Ethnicity_Asian  Ethnicity_Caucasian\n",
              "0        333             1  ...                0                    1\n",
              "1        903             0  ...                1                    0\n",
              "2        580             1  ...                1                    0\n",
              "3        964             0  ...                1                    0\n",
              "4        331             1  ...                0                    1\n",
              "..       ...           ...  ...              ...                  ...\n",
              "395      560             1  ...                0                    1\n",
              "396      480             1  ...                0                    0\n",
              "397      138             0  ...                0                    1\n",
              "398        0             1  ...                0                    1\n",
              "399      966             0  ...                1                    0\n",
              "\n",
              "[400 rows x 6 columns]"
            ]
          },
          "metadata": {},
          "execution_count": 49
        }
      ]
    },
    {
      "cell_type": "markdown",
      "metadata": {
        "id": "2DW6IIkCH6NS"
      },
      "source": [
        "Fit LR models with categorical predictors - using sklearn:"
      ]
    },
    {
      "cell_type": "markdown",
      "metadata": {
        "id": "iIxuztWbBCIM"
      },
      "source": [
        "Attempt 1: repeat something similar as before"
      ]
    },
    {
      "cell_type": "code",
      "metadata": {
        "colab": {
          "base_uri": "https://localhost:8080/"
        },
        "id": "44wjd9mCBI4_",
        "outputId": "2f8af43e-7bc8-4615-c96d-94b02032e80a"
      },
      "source": [
        "reg_Gender = LinearRegression().fit(Credit_dumms[['Gender_Female', 'Gender_ Male']], Credit_dumms['Balance'])\n",
        "\n",
        "print('Regression Coefficients for Gender model: ', [round(item, 2) for item in reg_Gender.coef_])"
      ],
      "execution_count": null,
      "outputs": [
        {
          "output_type": "stream",
          "name": "stdout",
          "text": [
            "Regression Coefficients for Gender model:  [1.7203792867472128e+16, 1.7203792867472128e+16]\n"
          ]
        }
      ]
    },
    {
      "cell_type": "markdown",
      "metadata": {
        "id": "1ncArVePBea2"
      },
      "source": [
        "Unfortunately, `LinearRegression().fit()` does not automatically removes one of the dummies itself... so we need to do this manually.\n",
        "We will see more categorical-friednly functions soon!\n",
        "\n",
        "Attempt 2:"
      ]
    },
    {
      "cell_type": "code",
      "metadata": {
        "colab": {
          "base_uri": "https://localhost:8080/"
        },
        "id": "ChceVO7CIAJ3",
        "outputId": "e1aeba02-0e74-40ce-f87d-476e8c53f230"
      },
      "source": [
        "reg_Gender = LinearRegression().fit(Credit_dumms[['Gender_Female']], Credit_dumms['Balance'])\n",
        "reg_Ethnicity = LinearRegression().fit(Credit_dumms[['Ethnicity_Asian', 'Ethnicity_Caucasian']], Credit_dumms['Balance'])\n",
        "\n",
        "print('Regression Coefficients for Gender model: ', [round(item, 2) for item in reg_Gender.coef_])\n",
        "print('Regression Coefficients for Ethnicity model : ', [round(item, 2) for item in reg_Ethnicity.coef_])"
      ],
      "execution_count": null,
      "outputs": [
        {
          "output_type": "stream",
          "name": "stdout",
          "text": [
            "Regression Coefficients for Gender model:  [19.73]\n",
            "Regression Coefficients for Ethnicity model :  [-18.69, -12.5]\n"
          ]
        }
      ]
    },
    {
      "cell_type": "markdown",
      "metadata": {
        "id": "6okYJwDfNYSy"
      },
      "source": [
        "Attempt 3: Fit LR models with categorical predictors - using statsmodels:"
      ]
    },
    {
      "cell_type": "code",
      "metadata": {
        "colab": {
          "base_uri": "https://localhost:8080/"
        },
        "id": "0O2mzFRpNcex",
        "outputId": "6cbdf38c-4373-4354-ebac-6fe9112bae12"
      },
      "source": [
        "reg_Gender = smf.ols(formula = \"Balance ~ Gender\", data = Credit).fit()\n",
        "print(reg_Gender.summary())\n",
        "\n",
        "reg_Ethnicity = smf.ols(formula = \"Balance ~ Ethnicity\", data = Credit).fit()\n",
        "print(reg_Ethnicity.summary())"
      ],
      "execution_count": null,
      "outputs": [
        {
          "output_type": "stream",
          "name": "stdout",
          "text": [
            "                            OLS Regression Results                            \n",
            "==============================================================================\n",
            "Dep. Variable:                Balance   R-squared:                       0.000\n",
            "Model:                            OLS   Adj. R-squared:                 -0.002\n",
            "Method:                 Least Squares   F-statistic:                    0.1836\n",
            "Date:                Thu, 02 Dec 2021   Prob (F-statistic):              0.669\n",
            "Time:                        02:45:47   Log-Likelihood:                -3019.3\n",
            "No. Observations:                 400   AIC:                             6043.\n",
            "Df Residuals:                     398   BIC:                             6051.\n",
            "Df Model:                           1                                         \n",
            "Covariance Type:            nonrobust                                         \n",
            "====================================================================================\n",
            "                       coef    std err          t      P>|t|      [0.025      0.975]\n",
            "------------------------------------------------------------------------------------\n",
            "Intercept          509.8031     33.128     15.389      0.000     444.675     574.931\n",
            "Gender[T.Female]    19.7331     46.051      0.429      0.669     -70.801     110.267\n",
            "==============================================================================\n",
            "Omnibus:                       28.438   Durbin-Watson:                   1.940\n",
            "Prob(Omnibus):                  0.000   Jarque-Bera (JB):               27.346\n",
            "Skew:                           0.583   Prob(JB):                     1.15e-06\n",
            "Kurtosis:                       2.471   Cond. No.                         2.66\n",
            "==============================================================================\n",
            "\n",
            "Warnings:\n",
            "[1] Standard Errors assume that the covariance matrix of the errors is correctly specified.\n",
            "                            OLS Regression Results                            \n",
            "==============================================================================\n",
            "Dep. Variable:                Balance   R-squared:                       0.000\n",
            "Model:                            OLS   Adj. R-squared:                 -0.005\n",
            "Method:                 Least Squares   F-statistic:                   0.04344\n",
            "Date:                Thu, 02 Dec 2021   Prob (F-statistic):              0.957\n",
            "Time:                        02:45:47   Log-Likelihood:                -3019.3\n",
            "No. Observations:                 400   AIC:                             6045.\n",
            "Df Residuals:                     397   BIC:                             6057.\n",
            "Df Model:                           2                                         \n",
            "Covariance Type:            nonrobust                                         \n",
            "==========================================================================================\n",
            "                             coef    std err          t      P>|t|      [0.025      0.975]\n",
            "------------------------------------------------------------------------------------------\n",
            "Intercept                531.0000     46.319     11.464      0.000     439.939     622.061\n",
            "Ethnicity[T.Asian]       -18.6863     65.021     -0.287      0.774    -146.515     109.142\n",
            "Ethnicity[T.Caucasian]   -12.5025     56.681     -0.221      0.826    -123.935      98.930\n",
            "==============================================================================\n",
            "Omnibus:                       28.829   Durbin-Watson:                   1.946\n",
            "Prob(Omnibus):                  0.000   Jarque-Bera (JB):               27.395\n",
            "Skew:                           0.581   Prob(JB):                     1.13e-06\n",
            "Kurtosis:                       2.460   Cond. No.                         4.39\n",
            "==============================================================================\n",
            "\n",
            "Warnings:\n",
            "[1] Standard Errors assume that the covariance matrix of the errors is correctly specified.\n"
          ]
        }
      ]
    },
    {
      "cell_type": "code",
      "metadata": {
        "colab": {
          "base_uri": "https://localhost:8080/",
          "height": 279
        },
        "id": "v_ispgLcGIoH",
        "outputId": "aff68f32-cd21-4644-f3fe-7d39ed133383"
      },
      "source": [
        "plt.scatter(Credit.Gender, Credit.Balance, marker = \"+\")\n",
        "plt.plot([0, 1], [np.mean(Credit.query(\"Gender == ' Male'\").Balance), np.mean(Credit.query(\"Gender == 'Female'\").Balance)], 'r--')\n",
        "plt.ylabel(\"Balance\")\n",
        "plt.xlabel(\"Gender\")\n",
        "plt.show()"
      ],
      "execution_count": null,
      "outputs": [
        {
          "output_type": "display_data",
          "data": {
            "image/png": "[encoded data removed]",
            "text/plain": [
              "<Figure size 432x288 with 1 Axes>"
            ]
          },
          "metadata": {
            "needs_background": "light"
          }
        }
      ]
    },
    {
      "cell_type": "code",
      "metadata": {
        "colab": {
          "base_uri": "https://localhost:8080/",
          "height": 279
        },
        "id": "R21LHx-rHYCZ",
        "outputId": "7001b33c-890c-4cda-ce31-4b1d2ba5397b"
      },
      "source": [
        "plt.scatter(Credit.Ethnicity, Credit.Balance, marker = \"+\")\n",
        "plt.plot([0, 1, 2], [np.mean(Credit.query(\"Ethnicity == 'Caucasian'\").Balance),\n",
        "                  np.mean(Credit.query(\"Ethnicity == 'Asian'\").Balance),\n",
        "                  np.mean(Credit.query(\"Ethnicity == 'African American'\").Balance)], 'r--')\n",
        "plt.ylabel(\"Balance\")\n",
        "plt.xlabel(\"Ethnicity\")\n",
        "plt.show()"
      ],
      "execution_count": null,
      "outputs": [
        {
          "output_type": "display_data",
          "data": {
            "image/png": "[encoded data removed]",
            "text/plain": [
              "<Figure size 432x288 with 1 Axes>"
            ]
          },
          "metadata": {
            "needs_background": "light"
          }
        }
      ]
    },
    {
      "cell_type": "code",
      "metadata": {
        "colab": {
          "base_uri": "https://localhost:8080/",
          "height": 174
        },
        "id": "PA4Cl8tmRE2r",
        "outputId": "cda31421-baf0-46b5-dd1d-2215897b607e"
      },
      "source": [
        "Credit_group = Credit.groupby(\"Ethnicity\")\n",
        "Credit_group.Balance.agg([lambda x: x.shape[0], np.mean, np.std])"
      ],
      "execution_count": null,
      "outputs": [
        {
          "output_type": "execute_result",
          "data": {
            "text/html": [
              "<div>\n",
              "<style scoped>\n",
              "    .dataframe tbody tr th:only-of-type {\n",
              "        vertical-align: middle;\n",
              "    }\n",
              "\n",
              "    .dataframe tbody tr th {\n",
              "        vertical-align: top;\n",
              "    }\n",
              "\n",
              "    .dataframe thead th {\n",
              "        text-align: right;\n",
              "    }\n",
              "</style>\n",
              "<table border=\"1\" class=\"dataframe\">\n",
              "  <thead>\n",
              "    <tr style=\"text-align: right;\">\n",
              "      <th></th>\n",
              "      <th>&lt;lambda_0&gt;</th>\n",
              "      <th>mean</th>\n",
              "      <th>std</th>\n",
              "    </tr>\n",
              "    <tr>\n",
              "      <th>Ethnicity</th>\n",
              "      <th></th>\n",
              "      <th></th>\n",
              "      <th></th>\n",
              "    </tr>\n",
              "  </thead>\n",
              "  <tbody>\n",
              "    <tr>\n",
              "      <th>African American</th>\n",
              "      <td>99</td>\n",
              "      <td>531.000000</td>\n",
              "      <td>485.632745</td>\n",
              "    </tr>\n",
              "    <tr>\n",
              "      <th>Asian</th>\n",
              "      <td>102</td>\n",
              "      <td>512.313725</td>\n",
              "      <td>481.402468</td>\n",
              "    </tr>\n",
              "    <tr>\n",
              "      <th>Caucasian</th>\n",
              "      <td>199</td>\n",
              "      <td>518.497487</td>\n",
              "      <td>436.946693</td>\n",
              "    </tr>\n",
              "  </tbody>\n",
              "</table>\n",
              "</div>"
            ],
            "text/plain": [
              "                  <lambda_0>        mean         std\n",
              "Ethnicity                                           \n",
              "African American          99  531.000000  485.632745\n",
              "Asian                    102  512.313725  481.402468\n",
              "Caucasian                199  518.497487  436.946693"
            ]
          },
          "metadata": {},
          "execution_count": 56
        }
      ]
    },
    {
      "cell_type": "markdown",
      "metadata": {
        "id": "bhzw-NGDJTmH"
      },
      "source": [
        "Transformations:\n",
        "\n",
        "1. on one feature: e.g., log, sqrt, inverse, etc.\n",
        "2. on multiple features: interactions"
      ]
    },
    {
      "cell_type": "markdown",
      "metadata": {
        "id": "CrESHwwpRdUG"
      },
      "source": [
        "- Linear model on one feature:"
      ]
    },
    {
      "cell_type": "code",
      "metadata": {
        "colab": {
          "base_uri": "https://localhost:8080/"
        },
        "id": "aGOhReeEJnSp",
        "outputId": "aa6d216a-ce58-4522-9534-e6bc2e88901c"
      },
      "source": [
        "reg_Limit_lin = smf.ols(formula = \"Balance ~ Income\", data = Credit).fit()\n",
        "\n",
        "print(reg_Limit_lin.summary())"
      ],
      "execution_count": null,
      "outputs": [
        {
          "output_type": "stream",
          "name": "stdout",
          "text": [
            "                            OLS Regression Results                            \n",
            "==============================================================================\n",
            "Dep. Variable:                Balance   R-squared:                       0.215\n",
            "Model:                            OLS   Adj. R-squared:                  0.213\n",
            "Method:                 Least Squares   F-statistic:                     109.0\n",
            "Date:                Thu, 02 Dec 2021   Prob (F-statistic):           1.03e-22\n",
            "Time:                        03:53:30   Log-Likelihood:                -2970.9\n",
            "No. Observations:                 400   AIC:                             5946.\n",
            "Df Residuals:                     398   BIC:                             5954.\n",
            "Df Model:                           1                                         \n",
            "Covariance Type:            nonrobust                                         \n",
            "==============================================================================\n",
            "                 coef    std err          t      P>|t|      [0.025      0.975]\n",
            "------------------------------------------------------------------------------\n",
            "Intercept    246.5148     33.199      7.425      0.000     181.247     311.783\n",
            "Income         6.0484      0.579     10.440      0.000       4.909       7.187\n",
            "==============================================================================\n",
            "Omnibus:                       42.505   Durbin-Watson:                   1.951\n",
            "Prob(Omnibus):                  0.000   Jarque-Bera (JB):               20.975\n",
            "Skew:                           0.384   Prob(JB):                     2.79e-05\n",
            "Kurtosis:                       2.182   Cond. No.                         93.3\n",
            "==============================================================================\n",
            "\n",
            "Warnings:\n",
            "[1] Standard Errors assume that the covariance matrix of the errors is correctly specified.\n"
          ]
        }
      ]
    },
    {
      "cell_type": "markdown",
      "metadata": {
        "id": "6ygLr43-RqqO"
      },
      "source": [
        "- Linear model on log of one feature:"
      ]
    },
    {
      "cell_type": "code",
      "metadata": {
        "id": "5w6rgzWlRljG"
      },
      "source": [
        "reg_Limit_log = smf.ols(formula = \"Balance ~ np.log(Income)\", data = Credit).fit()\n",
        "\n",
        "print(reg_Limit_log.summary())"
      ],
      "execution_count": null,
      "outputs": []
    },
    {
      "cell_type": "markdown",
      "metadata": {
        "id": "cxqBeUvGR3C-"
      },
      "source": [
        "- Linear model on two features (numeric & categorical):"
      ]
    },
    {
      "cell_type": "code",
      "metadata": {
        "id": "5b3OofB-RzsW"
      },
      "source": [
        "reg_Limit_Gen = smf.ols(formula = \"Balance ~ Income + Gender\", data = Credit).fit()\n",
        "\n",
        "print(reg_Limit_Gen.summary())"
      ],
      "execution_count": null,
      "outputs": []
    },
    {
      "cell_type": "markdown",
      "metadata": {
        "id": "5qXApkvlSJ4Q"
      },
      "source": [
        "- Linear model on two features with interaction:"
      ]
    },
    {
      "cell_type": "code",
      "metadata": {
        "colab": {
          "base_uri": "https://localhost:8080/"
        },
        "id": "F6qIU9yESIKp",
        "outputId": "1c06630a-2f53-4952-9a90-f78e610cd37e"
      },
      "source": [
        "reg_Limit_Gen_int = smf.ols(formula = \"Balance ~ Income * Ethnicity\", data = Credit).fit()\n",
        "\n",
        "print(reg_Limit_Gen_int.summary())"
      ],
      "execution_count": null,
      "outputs": [
        {
          "output_type": "stream",
          "name": "stdout",
          "text": [
            "                            OLS Regression Results                            \n",
            "==============================================================================\n",
            "Dep. Variable:                Balance   R-squared:                       0.222\n",
            "Model:                            OLS   Adj. R-squared:                  0.212\n",
            "Method:                 Least Squares   F-statistic:                     22.45\n",
            "Date:                Thu, 02 Dec 2021   Prob (F-statistic):           7.98e-20\n",
            "Time:                        03:56:44   Log-Likelihood:                -2969.2\n",
            "No. Observations:                 400   AIC:                             5950.\n",
            "Df Residuals:                     394   BIC:                             5974.\n",
            "Df Model:                           5                                         \n",
            "Covariance Type:            nonrobust                                         \n",
            "=================================================================================================\n",
            "                                    coef    std err          t      P>|t|      [0.025      0.975]\n",
            "-------------------------------------------------------------------------------------------------\n",
            "Intercept                       175.4952     65.193      2.692      0.007      47.326     303.665\n",
            "Ethnicity[T.Asian]               57.3474     91.785      0.625      0.532    -123.102     237.796\n",
            "Ethnicity[T.Caucasian]          122.8149     81.198      1.513      0.131     -36.821     282.451\n",
            "Income                            7.4557      1.063      7.016      0.000       5.367       9.545\n",
            "Income:Ethnicity[T.Asian]        -1.1311      1.559     -0.726      0.469      -4.196       1.934\n",
            "Income:Ethnicity[T.Caucasian]    -2.5101      1.374     -1.826      0.069      -5.212       0.192\n",
            "==============================================================================\n",
            "Omnibus:                       44.087   Durbin-Watson:                   1.936\n",
            "Prob(Omnibus):                  0.000   Jarque-Bera (JB):               22.634\n",
            "Skew:                           0.415   Prob(JB):                     1.22e-05\n",
            "Kurtosis:                       2.182   Cond. No.                         396.\n",
            "==============================================================================\n",
            "\n",
            "Warnings:\n",
            "[1] Standard Errors assume that the covariance matrix of the errors is correctly specified.\n"
          ]
        }
      ]
    },
    {
      "cell_type": "code",
      "metadata": {
        "colab": {
          "base_uri": "https://localhost:8080/",
          "height": 282
        },
        "id": "82jiOtGrSa47",
        "outputId": "98e96c7e-bcc6-44d6-e11b-901890e5b1d2"
      },
      "source": [
        "Credit['pred'] = reg_Limit_Gen_int.predict()\n",
        "\n",
        "plt.scatter(Credit.query(\"Ethnicity == 'Asian'\").Income, Credit.query(\"Ethnicity == 'Asian'\").pred, c = \"b\", marker = \"o\")\n",
        "plt.scatter(Credit.query(\"Ethnicity == 'Caucasian'\").Income, Credit.query(\"Ethnicity == 'Caucasian'\").pred, c = \"r\", marker = \"+\")\n",
        "plt.scatter(Credit.query(\"Ethnicity == 'African American'\").Income, Credit.query(\"Ethnicity == 'African American'\").pred, c = \"g\", marker = \"+\")\n",
        "plt.legend(('Asian', 'Caucasian', 'African American'),\n",
        "           scatterpoints=1,\n",
        "           loc='lower right',\n",
        "           ncol=3,\n",
        "           fontsize=8)\n",
        "plt.plot()"
      ],
      "execution_count": null,
      "outputs": [
        {
          "output_type": "execute_result",
          "data": {
            "text/plain": [
              "[]"
            ]
          },
          "metadata": {},
          "execution_count": 68
        },
        {
          "output_type": "display_data",
          "data": {
            "image/png": "[encoded data removed]",
            "text/plain": [
              "<Figure size 432x288 with 1 Axes>"
            ]
          },
          "metadata": {
            "needs_background": "light"
          }
        }
      ]
    }
  ]
}